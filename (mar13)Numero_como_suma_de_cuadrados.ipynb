{
  "nbformat": 4,
  "nbformat_minor": 0,
  "metadata": {
    "colab": {
      "provenance": [],
      "authorship_tag": "ABX9TyORK8sfqRfaAtD8wVWQpqOw",
      "include_colab_link": true
    },
    "kernelspec": {
      "name": "python3",
      "display_name": "Python 3"
    },
    "language_info": {
      "name": "python"
    }
  },
  "cells": [
    {
      "cell_type": "markdown",
      "metadata": {
        "id": "view-in-github",
        "colab_type": "text"
      },
      "source": [
        "<a href=\"https://colab.research.google.com/github/kaalvarezb/Matematicas-discretas-II/blob/main/(mar13)Numero_como_suma_de_cuadrados.ipynb\" target=\"_parent\"><img src=\"https://colab.research.google.com/assets/colab-badge.svg\" alt=\"Open In Colab\"/></a>"
      ]
    },
    {
      "cell_type": "markdown",
      "source": [
        "# <center>EXPRESIÓN DE UN NÚMERO COMO LA MÍNIMA SUMA DE CUADRADOS</center>\n",
        "**<center>Karen Tatiana Alvarez Baez</center>**\n",
        "_<center>kaalvarezb@unal.edu.co</center>_\n",
        "\n",
        "<center>Matemáticas discretas II 2023-I</center>\n",
        "<center>Facultad de Ingeniería</center>\n",
        "<center>Universidad Nacional de Colombia</center>\n",
        "\n",
        "## Def.\n",
        "<p align=\"justify\">Un número siempre puede representarse como la suma de cuadrados de otros números.</p>"
      ],
      "metadata": {
        "id": "HHVl_DRz6CC9"
      }
    },
    {
      "cell_type": "markdown",
      "source": [
        "<p align=\"justify\">En el algoritmo que se muestra a continuación, para encontrar la mínima suma de cuadrados en las que puede expresarse un número n, se parte de la parte entera de la raíz cuadrada de dicho número y desde allí se empieza a operar sobre n, restando el cuadrado y verificando que al restar el nuevo número, el resultado no sea negativo, ya que de ser asi, significa que la suma daría un valor más alto de lo esperado.\n",
        "</br>\n",
        "Cabe aclarar, que se asegura tener la mínima suma de cuadrados porque se verifica la operación desde los cuadrados más grandes posibles que darían lugar al número que se está descomponiendo.</p>"
      ],
      "metadata": {
        "id": "w7iLPNtKrrPe"
      }
    },
    {
      "cell_type": "code",
      "execution_count": 30,
      "metadata": {
        "colab": {
          "base_uri": "https://localhost:8080/"
        },
        "id": "9EhHDt5W2mel",
        "outputId": "91cd4e2d-6d49-437e-8d57-400a8be3db45"
      },
      "outputs": [
        {
          "output_type": "stream",
          "name": "stdout",
          "text": [
            "Ingrese un número entero positivo: 15687948525\n",
            "15687948525 = 15687813001 + 135424 + 100\n"
          ]
        }
      ],
      "source": [
        "import math\n",
        "\n",
        "def sum_of_squares(n):\n",
        "    \"\"\"\n",
        "    Esta función toma un número entero positivo n y devuelve una lista con los cuadrados\n",
        "    de los números enteros no negativos que suman n con la menor cantidad de cuadrados posible.\n",
        "    \"\"\"\n",
        "    squares = []\n",
        "    # raiz de n para partir del cuadrado mas grande posible\n",
        "    i = int(math.sqrt(n))\n",
        "\n",
        "    # verificacion que se realiza mientras n sea mayor que cero\n",
        "    # es decir, mientras la suma de los cuadrados hallados no sean iguales al numero n\n",
        "    while n > 0:\n",
        "        # Se opera con el cuadrado mas grande posible\n",
        "        square = i ** 2\n",
        "        # Se verifica que con ese cuadrado no se exceda la suma del numero n\n",
        "        if square > n or (n - square) < 0:\n",
        "            # Si la suma es excedida se prueba con un cuadrado mas pequeño\n",
        "            i -= 1\n",
        "            square = i ** 2\n",
        "        n -= square\n",
        "        # Se verifica que la suma de cuadrados no sobrepase al numero n\n",
        "        if n < 0:\n",
        "          n += square\n",
        "          continue\n",
        "\n",
        "        # los cuadrados que cumplan las condiciones se van almacenando\n",
        "        squares.append(square)\n",
        "    return squares\n",
        "\n",
        "if __name__ == '__main__':\n",
        "    n = int(input(\"Ingrese un número entero positivo: \"))\n",
        "    if n <= 0:\n",
        "        print(\"El número debe ser positivo.\")\n",
        "    else:\n",
        "        # Se muestra mediante un string la expresion del numero n como una suma de cuadrados\n",
        "        squares = sum_of_squares(n)\n",
        "        print(f\"{n} = {' + '.join(str(i) for i in squares)}\")"
      ]
    }
  ]
}