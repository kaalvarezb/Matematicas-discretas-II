{
  "nbformat": 4,
  "nbformat_minor": 0,
  "metadata": {
    "colab": {
      "provenance": [],
      "authorship_tag": "ABX9TyP19uGO9cLdVQBY9uFg5ER0",
      "include_colab_link": true
    },
    "kernelspec": {
      "name": "python3",
      "display_name": "Python 3"
    },
    "language_info": {
      "name": "python"
    }
  },
  "cells": [
    {
      "cell_type": "markdown",
      "metadata": {
        "id": "view-in-github",
        "colab_type": "text"
      },
      "source": [
        "<a href=\"https://colab.research.google.com/github/kaalvarezb/Matematicas-discretas-II/blob/main/Calculo_Totien.ipynb\" target=\"_parent\"><img src=\"https://colab.research.google.com/assets/colab-badge.svg\" alt=\"Open In Colab\"/></a>"
      ]
    },
    {
      "cell_type": "markdown",
      "source": [
        "# <center>ALGORITMO PARA CALCULAR EL TOTIEN</center>\n",
        "**<center>Karen Tatiana Alvarez Baez</center>**\n",
        "_<center>kaalvarezb@unal.edu.co</center>_\n",
        "\n",
        "<center>Matemáticas discretas II 2023-I</center>\n",
        "<center>Facultad de Ingeniería</center>\n",
        "<center>Universidad Nacional de Colombia</center>\n",
        "\n",
        "## Def.\n",
        "<p align=\"justify\">El 𝞥 de euler ó euler totien se define como:</p>\n",
        "<p align=\"center\">𝞥(n) = |{x : 1 ≤ x ≤ n y mcd(x, 12) = 1}|</p>\n",
        "<p align=\"justify\">El numero de enteros positivos x ≤ n que no tienen divisiores comunes con n.</p>"
      ],
      "metadata": {
        "id": "fGbYDvWvGBI-"
      }
    },
    {
      "cell_type": "markdown",
      "source": [
        "<p align=\"justify\">Así, con fuerza bruta podriamos probar para todo el conjunto de numeros S = {1, 2, 3, 4, 5, ..., n-1, n} cuales resultan ser coprimos con n.</p>\n",
        "<p align=\"justify\">En este caso se va a hacer uso de la función gcd de la libreria math de python para obtener el máximo comun divisor entre cada pareja de números y se va a iterar a lo largo de todo el conjunto S.</p>\n"
      ],
      "metadata": {
        "id": "FgyJBZ4zL94l"
      }
    },
    {
      "cell_type": "code",
      "execution_count": 1,
      "metadata": {
        "id": "7M4X8WZdF6OW"
      },
      "outputs": [],
      "source": [
        "\"\"\" Calculo de euler totien por fuerza bruta \"\"\"\n",
        "\n",
        "from math import gcd;\n",
        "\n",
        "# Fucion para calcular el totien n\n",
        "def totien(n):\n",
        "  s :list = [];\n",
        "  for i in range(1, n+1):\n",
        "    if gcd(i, n) == 1: \n",
        "        s.append(i);\n",
        "\n",
        "  return len(s);"
      ]
    },
    {
      "cell_type": "code",
      "source": [
        "import time;\n",
        "\n",
        "# Casos de prueba\n",
        "ini: int = time.process_time();\n",
        "print(\"𝞥(1) =\", totien(1));\n",
        "fin: int = time.process_time();\n",
        "print(\"Tiempo de ejecucion:\", fin-ini);\n",
        "\n",
        "ini: int = time.process_time();\n",
        "print(\"\\n𝞥(12) =\", totien(12));\n",
        "fin: int = time.process_time();\n",
        "print(\"Tiempo de ejecucion:\", fin-ini);\n",
        "\n",
        "ini: int = time.process_time();\n",
        "print(\"\\n𝞥(40) =\", totien(40));\n",
        "fin: int = time.process_time();\n",
        "print(\"Tiempo de ejecucion:\", fin-ini);\n",
        "\n",
        "ini: int = time.process_time();\n",
        "print(\"\\n𝞥(300) =\", totien(300));\n",
        "fin: int = time.process_time();\n",
        "print(\"Tiempo de ejecucion:\", fin-ini);"
      ],
      "metadata": {
        "colab": {
          "base_uri": "https://localhost:8080/"
        },
        "id": "oOdkCEs5PA_U",
        "outputId": "a97219f1-08af-47eb-ae68-ad574ad70599"
      },
      "execution_count": 2,
      "outputs": [
        {
          "output_type": "stream",
          "name": "stdout",
          "text": [
            "𝞥(1) = 1\n",
            "Tiempo de ejecucion: 0.0017289709999999126\n",
            "\n",
            "𝞥(12) = 4\n",
            "Tiempo de ejecucion: 0.001079319000000023\n",
            "\n",
            "𝞥(40) = 16\n",
            "Tiempo de ejecucion: 0.0009568739999998854\n",
            "\n",
            "𝞥(300) = 80\n",
            "Tiempo de ejecucion: 0.0012996800000000253\n"
          ]
        }
      ]
    },
    {
      "cell_type": "markdown",
      "source": [
        "## Lema.\n",
        "<p align=\"justify\">i) 𝞥(1) = 1 </p>\n",
        "<p align=\"justify\">ii) Si p es primo, 𝞥$(p^a) = p^a - p^{a-1}$</p>\n",
        "<p align=\"justify\">iii) Si mcd(m, n) = 1,  𝞥(m*n) = 𝞥(m)*𝞥(n)</p>\n",
        "\n",
        "<p align=\"justify\"></br>Ahora, con este lema se puede hacer un algoritmo más óptimo que calcule el totien de n sin tener que iterar sobre todo el conjunto S. </br></br>\n",
        "En este caso, se procederá a verificar si el número es diferente de 1 y de ser asi, se descomponerá en sus factores primos para obtener los respectivos m y n que se indican en el numeral iii del lema para aplicar el totien de fuerza bruta solo a esos números que son más pequeños, y en caso de que el número sea primo se aplicará la propiedad del numeral ii, de modo que el totien será el número primo p - 1, teniendo en cuenta que en este caso el exponente del primo es 1.</p>\n"
      ],
      "metadata": {
        "id": "PBckqC-dTenq"
      }
    },
    {
      "cell_type": "code",
      "source": [
        "\"\"\" Calculo de euler totien haciendo uso del lema \"\"\"\n",
        "\n",
        "from math import gcd;\n",
        "\n",
        "# Descomposición en factores primos\n",
        "\n",
        "def factoring(n): #descomposición en factores primos\n",
        "  fac = [];\n",
        "  i = 1\n",
        "  for i in range(1, int(n/2)+1, 2):      # recorre los impares\n",
        "    if i==1: i=2                         # salvo el 1 que será 2\n",
        "    counter = 0\n",
        "    while n % i == 0:\n",
        "      n /= i\n",
        "      counter += 1\n",
        "    if counter == 1:\n",
        "      fac.append(i);\n",
        "\n",
        "    elif counter > 1:\n",
        "      fac.append(i**counter);\n",
        "\n",
        "  return fac;\n",
        "\n",
        "# Fucion para descomponer el numero\n",
        "def totien_lema(n):\n",
        "\n",
        "  # Verificar si el numero es diferente de 1\n",
        "  tot = 1;\n",
        "  if n == 1:\n",
        "    return tot;\n",
        "  \n",
        "  # descomponer el numero en factores primos\n",
        "  else:\n",
        "    fac = factoring(n);\n",
        "    if len(fac) != 0:\n",
        "      # Aplicar el totien a los factores primos obtenidos\n",
        "      for i in fac:\n",
        "        tot *= totien(i);\n",
        "    else:\n",
        "      # Aplicar numeral ii del lema si el numero es primo\n",
        "      tot = n-1;\n",
        "\n",
        "\n",
        "  return tot;"
      ],
      "metadata": {
        "id": "qaToqI0bbFoq"
      },
      "execution_count": 3,
      "outputs": []
    },
    {
      "cell_type": "code",
      "source": [
        "import time;\n",
        "\n",
        "# Casos de prueba\n",
        "ini: int = time.process_time();\n",
        "print(\"𝞥(1) =\", totien_lema(1));\n",
        "fin: int = time.process_time();\n",
        "print(\"Tiempo de ejecucion:\", fin-ini);\n",
        "\n",
        "ini: int = time.process_time();\n",
        "print(\"\\n𝞥(12) =\", totien_lema(12));\n",
        "fin: int = time.process_time();\n",
        "print(\"Tiempo de ejecucion:\", fin-ini);\n",
        "\n",
        "ini: int = time.process_time();\n",
        "print(\"\\n𝞥(40) =\", totien_lema(40));\n",
        "fin: int = time.process_time();\n",
        "print(\"Tiempo de ejecucion:\", fin-ini);\n",
        "\n",
        "ini: int = time.process_time();\n",
        "print(\"\\n𝞥(300) =\", totien_lema(300));\n",
        "fin: int = time.process_time();\n",
        "print(\"Tiempo de ejecucion:\", fin-ini);"
      ],
      "metadata": {
        "colab": {
          "base_uri": "https://localhost:8080/"
        },
        "outputId": "5e817110-9cff-49ad-90da-0a33f86c2ec2",
        "id": "G902D2OXsjKh"
      },
      "execution_count": 4,
      "outputs": [
        {
          "output_type": "stream",
          "name": "stdout",
          "text": [
            "𝞥(1) = 1\n",
            "Tiempo de ejecucion: 0.0020099039999998958\n",
            "\n",
            "𝞥(12) = 4\n",
            "Tiempo de ejecucion: 0.000898384999999946\n",
            "\n",
            "𝞥(40) = 16\n",
            "Tiempo de ejecucion: 0.0011974229999998087\n",
            "\n",
            "𝞥(300) = 80\n",
            "Tiempo de ejecucion: 0.0007400129999999283\n"
          ]
        }
      ]
    },
    {
      "cell_type": "markdown",
      "source": [
        "Ahora, para probar que algoritmo es más eficiente se va a probar cada una de las funciones con un número considerablemente grande para ver cual calcula el totien en un menor tiempo de ejecución."
      ],
      "metadata": {
        "id": "O6qJbyu4s8PO"
      }
    },
    {
      "cell_type": "code",
      "source": [
        "import time;\n",
        "\n",
        "# Calculo con funcion de fuerza bruta\n",
        "ini: int = time.process_time();\n",
        "print(\"𝞥(100000001) =\", totien(100000001));\n",
        "fin: int = time.process_time();\n",
        "print(\"Tiempo de ejecucion:\", fin-ini);"
      ],
      "metadata": {
        "colab": {
          "base_uri": "https://localhost:8080/"
        },
        "id": "TOtf-kPPtbcg",
        "outputId": "3b2c671d-9d6c-4063-bcad-651dc7f48c2e"
      },
      "execution_count": 5,
      "outputs": [
        {
          "output_type": "stream",
          "name": "stdout",
          "text": [
            "𝞥(100000001) = 94117632\n",
            "Tiempo de ejecucion: 50.274785068\n"
          ]
        }
      ]
    },
    {
      "cell_type": "code",
      "source": [
        "import time;\n",
        "\n",
        "# Calculo con funcion que usa el lema\n",
        "ini: int = time.process_time();\n",
        "print(\"𝞥(100000001) =\", totien_lema(100000001));\n",
        "fin: int = time.process_time();\n",
        "print(\"Tiempo de ejecucion:\", fin-ini);"
      ],
      "metadata": {
        "colab": {
          "base_uri": "https://localhost:8080/"
        },
        "id": "2WL4wl3ktkQ1",
        "outputId": "bb64a0b8-d0ef-4dd8-c98c-3f9ba07b81ce"
      },
      "execution_count": 6,
      "outputs": [
        {
          "output_type": "stream",
          "name": "stdout",
          "text": [
            "𝞥(100000001) = 94117632\n",
            "Tiempo de ejecucion: 10.75852209\n"
          ]
        }
      ]
    },
    {
      "cell_type": "markdown",
      "source": [
        "## Conclusión\n",
        "<p align=\"justify\">Evidentemente el cálculo del totien es más eficiente haciendo uso del lema, donde el tiempo de ejecución es mucho más bajo, ya que es mucho más factible no tener que iterar sobre todo el conjunto de datos y validar la divisibilidad sobre un grupo más pequeño.</p>"
      ],
      "metadata": {
        "id": "aMa3BRzUu89O"
      }
    }
  ]
}