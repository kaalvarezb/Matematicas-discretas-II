{
  "nbformat": 4,
  "nbformat_minor": 0,
  "metadata": {
    "colab": {
      "provenance": [],
      "authorship_tag": "ABX9TyPE3ikooM5o/HWDYlem6POl",
      "include_colab_link": true
    },
    "kernelspec": {
      "name": "python3",
      "display_name": "Python 3"
    },
    "language_info": {
      "name": "python"
    }
  },
  "cells": [
    {
      "cell_type": "markdown",
      "metadata": {
        "id": "view-in-github",
        "colab_type": "text"
      },
      "source": [
        "<a href=\"https://colab.research.google.com/github/kaalvarezb/Matematicas-discretas-II/blob/main/Identificacion_de_grupos_a_partir_de_tablas.ipynb\" target=\"_parent\"><img src=\"https://colab.research.google.com/assets/colab-badge.svg\" alt=\"Open In Colab\"/></a>"
      ]
    },
    {
      "cell_type": "markdown",
      "source": [
        "# <center>IDENTIFICACIÓN DE GRUPOS A PARTIR DE TABLAS</center>\n",
        "**<center>Karen Tatiana Alvarez Baez</center>**\n",
        "_<center>kaalvarezb@unal.edu.co</center>_\n",
        "\n",
        "<center>Matemáticas discretas II 2023-I</center>\n",
        "<center>Facultad de Ingeniería</center>\n",
        "<center>Universidad Nacional de Colombia</center>"
      ],
      "metadata": {
        "id": "HdPJxiZNA7bR"
      }
    },
    {
      "cell_type": "code",
      "source": [
        "\"\"\" Funcion que verifica que cada elemento aparezca una unica vez en cada fila y en cada columna \"\"\"\n",
        "def unicaAparicion(tabla) -> bool:\n",
        "    size = len(tabla)\n",
        "\n",
        "    # Verificar los elementos en cada fila\n",
        "    for i in tabla:\n",
        "      elementosFila = set(i)\n",
        "      if(len(elementosFila) != size):\n",
        "        return False\n",
        "    \n",
        "    # Verificar los elementos en cada columna\n",
        "    for j in range(size):\n",
        "      elementosColumna = []\n",
        "      for x in range(size):\n",
        "        elementosColumna.append(tabla[x][j])\n",
        "      if len(set(elementosColumna)) != size:\n",
        "          return False\n",
        "\n",
        "    return True\n",
        "\n",
        "G = [['a', 'b', 'c', 'd'],\n",
        "     ['c', 'a', 'd', 'b'],\n",
        "     ['b', 'd', 'a', 'c'],\n",
        "     ['d', 'c', 'b', 'a']]\n",
        "# G = [['a', 'b', 'c', 'd'],\n",
        "#      ['c', 'd', 'd', 'd'],\n",
        "#      ['a', 'b', 'd', 'c'],\n",
        "#      ['d', 'a', 'c', 'b']]\n",
        "print(unicaAparicion(G))"
      ],
      "metadata": {
        "id": "LtbguXWZKuXe",
        "colab": {
          "base_uri": "https://localhost:8080/"
        },
        "outputId": "4e97d3d9-0f85-46fb-8cca-d007412236e2"
      },
      "execution_count": 21,
      "outputs": [
        {
          "output_type": "stream",
          "name": "stdout",
          "text": [
            "True\n"
          ]
        }
      ]
    },
    {
      "cell_type": "code",
      "source": [
        "\"\"\" Funcion que verifica que la matriz sea cuadrada \"\"\"\n",
        "def squareTable(tabla) -> bool:\n",
        "    # Verificar si la tabla tiene un tamaño nxn o mxn\n",
        "    if (len(tabla) == len(tabla[0])):\n",
        "      return True\n",
        "    else:\n",
        "      return False\n",
        "\n",
        "\n",
        "G = [['a', 'b', 'c', 'd'],\n",
        "     ['c', 'd', 'd', 'd'],\n",
        "     ['a', 'b', 'd', 'c'],\n",
        "     ['d', 'a', 'c', 'b']];\n",
        "\n",
        "print(squareTable(G));"
      ],
      "metadata": {
        "colab": {
          "base_uri": "https://localhost:8080/"
        },
        "id": "KjKk1r6eIkYh",
        "outputId": "b3f89310-4c19-4f8b-b68b-5e1c26228c01"
      },
      "execution_count": 24,
      "outputs": [
        {
          "output_type": "stream",
          "name": "stdout",
          "text": [
            "True\n"
          ]
        }
      ]
    },
    {
      "cell_type": "code",
      "source": [
        "\"\"\" Funcion que recibe una tabla y verifica si es un cuadrado latino \"\"\"\n",
        "def cuadradoLatino(tabla) -> bool:\n",
        "  # Verificar si se cumplen las propiedades de un cuadrado latino\n",
        "  if (unicaAparicion(tabla) & squareTable(tabla)):\n",
        "    return True\n",
        "  return False\n",
        "\n",
        "# G = [['a', 'b', 'c', 'd'],\n",
        "#      ['c', 'd', 'd', 'd'],\n",
        "#      ['a', 'b', 'd', 'c'],\n",
        "#      ['d', 'a', 'c', 'b']];\n",
        "\n",
        "G = [['a', 'b', 'c', 'd'],\n",
        "     ['c', 'a', 'd', 'b'],\n",
        "     ['b', 'd', 'a', 'c'],\n",
        "     ['d', 'c', 'b', 'a']]\n",
        "\n",
        "print(cuadradoLatino(G))"
      ],
      "metadata": {
        "id": "zipGUxnumE7P",
        "colab": {
          "base_uri": "https://localhost:8080/"
        },
        "outputId": "fc10eadc-bb27-4cd1-950e-109d905d42cc"
      },
      "execution_count": 29,
      "outputs": [
        {
          "output_type": "stream",
          "name": "stdout",
          "text": [
            "True\n"
          ]
        }
      ]
    },
    {
      "cell_type": "code",
      "source": [
        "\"\"\" Funcion para verificar que la tabla es cerrada respecto a la operacion \"\"\"\n",
        "def operacionCerrada(tabla) -> bool:\n",
        "  size = list(range(len(tabla)))\n",
        "\n",
        "  # Se verifica \n",
        "  for i in size:\n",
        "        for j in size:\n",
        "            if tabla[i][j] not in (tabla[0]):\n",
        "                return False\n",
        "\n",
        "  return True\n",
        "\n",
        "G = [['a', 'b', 'c', 'd'],\n",
        "     ['c', 'd', 'd', 'd'],\n",
        "     ['a', 'b', 'd', 'c'],\n",
        "     ['d', 'a', 'c', 'b']]\n",
        "\n",
        "print(operacionCerrada(G))"
      ],
      "metadata": {
        "colab": {
          "base_uri": "https://localhost:8080/"
        },
        "id": "n8bUd0TeByVA",
        "outputId": "4e45ca94-c297-4caf-b594-cf4b0358722e"
      },
      "execution_count": 31,
      "outputs": [
        {
          "output_type": "stream",
          "name": "stdout",
          "text": [
            "True\n"
          ]
        }
      ]
    },
    {
      "cell_type": "code",
      "execution_count": 36,
      "metadata": {
        "colab": {
          "base_uri": "https://localhost:8080/"
        },
        "id": "zSJ3ZFp-i51P",
        "outputId": "08524e1e-c5c4-4a8e-cd06-64e4c8b49627"
      },
      "outputs": [
        {
          "output_type": "stream",
          "name": "stdout",
          "text": [
            "d\n",
            "True\n"
          ]
        }
      ],
      "source": [
        "\"\"\" Funcion para verificar la existencia de un elemento neutro \"\"\"\n",
        "def neutro(tabla) -> bool:\n",
        "  size = len(tabla)\n",
        "\n",
        "  e = chr(97 + size - 1)\n",
        "  print(e)\n",
        "  for i in range(size):\n",
        "      if e not in tabla[i]:\n",
        "          return False\n",
        "  \n",
        "  return True\n",
        "\n",
        "G = [['a', 'b', 'c', 'd'],\n",
        "     ['c', 'd', 'd', 'd'],\n",
        "     ['a', 'b', 'd', 'c'],\n",
        "     ['d', 'a', 'c', 'b']]\n",
        "\n",
        "print(neutro(G))"
      ]
    },
    {
      "cell_type": "code",
      "source": [
        "\"\"\" Funcion que recibe una tabla y verifica si se tiene un inverso por cada elemento \"\"\"\n",
        "def inversos(tabla) -> bool:\n",
        "  exists: bool = False;\n",
        "  \n",
        "  return exists;"
      ],
      "metadata": {
        "id": "f4hfi-eAjmRi"
      },
      "execution_count": null,
      "outputs": []
    },
    {
      "cell_type": "code",
      "source": [
        "\"\"\" Funcion que recibe una tabla y verifica si la operacion es asociativa \"\"\"\n",
        "def asociatividad(tabla) -> bool:\n",
        "  size = range(len(tabla))\n",
        "  for i in size:\n",
        "        for j in size:\n",
        "            for k in size:\n",
        "              if tabla[i][ord(tabla[j][k]) - 97] != tabla[ord(tabla[i][j]) - 97][k]:\n",
        "                  return False\n",
        "\n",
        "  return True\n",
        "\n",
        "# G = [['a', 'b', 'c', 'd'],\n",
        "#      ['c', 'd', 'd', 'd'],\n",
        "#      ['a', 'b', 'd', 'c'],\n",
        "#      ['d', 'a', 'c', 'b']]\n",
        "\n",
        "G = [['e', 'a', 'b', 'c'],\n",
        "     ['a', 'e', 'c', 'b'],\n",
        "     ['b', 'c', 'e', 'a'],\n",
        "     ['c', 'b', 'a', 'e']]\n",
        "asociatividad(G)"
      ],
      "metadata": {
        "colab": {
          "base_uri": "https://localhost:8080/"
        },
        "id": "HiiUpiJElG4-",
        "outputId": "a74b539b-946f-4b8f-8497-f98439378653"
      },
      "execution_count": 50,
      "outputs": [
        {
          "output_type": "stream",
          "name": "stdout",
          "text": [
            "3\n",
            "0\n",
            "0\n",
            "-1\n",
            "0\n",
            "1\n"
          ]
        },
        {
          "output_type": "execute_result",
          "data": {
            "text/plain": [
              "False"
            ]
          },
          "metadata": {},
          "execution_count": 50
        }
      ]
    },
    {
      "cell_type": "code",
      "source": [
        "\"\"\" Funcion que recibe una tabla y verifica si es un grupo \"\"\"\n",
        "def group(tabla) -> bool:\n",
        "  if (neutro(tabla) & inversos(tabla) & asociatividad(tabla) ):\n",
        "    return True;\n",
        "  else:\n",
        "    return False;  "
      ],
      "metadata": {
        "id": "Kpi7GSiVlR0o"
      },
      "execution_count": null,
      "outputs": []
    }
  ]
}