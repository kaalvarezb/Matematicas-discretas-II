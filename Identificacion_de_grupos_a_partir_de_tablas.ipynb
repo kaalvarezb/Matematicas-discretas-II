{
  "nbformat": 4,
  "nbformat_minor": 0,
  "metadata": {
    "colab": {
      "provenance": [],
      "authorship_tag": "ABX9TyOgHG2zeYSA4Y9pVUzhQGa4",
      "include_colab_link": true
    },
    "kernelspec": {
      "name": "python3",
      "display_name": "Python 3"
    },
    "language_info": {
      "name": "python"
    }
  },
  "cells": [
    {
      "cell_type": "markdown",
      "metadata": {
        "id": "view-in-github",
        "colab_type": "text"
      },
      "source": [
        "<a href=\"https://colab.research.google.com/github/kaalvarezb/Matematicas-discretas-II/blob/main/Identificacion_de_grupos_a_partir_de_tablas.ipynb\" target=\"_parent\"><img src=\"https://colab.research.google.com/assets/colab-badge.svg\" alt=\"Open In Colab\"/></a>"
      ]
    },
    {
      "cell_type": "markdown",
      "source": [
        "# <center>IDENTIFICACIÓN DE GRUPOS A PARTIR DE TABLAS</center>\n",
        "**<center>Karen Tatiana Alvarez Baez</center>**\n",
        "_<center>kaalvarezb@unal.edu.co</center>_\n",
        "\n",
        "<center>Matemáticas discretas II 2023-I</center>\n",
        "<center>Facultad de Ingeniería</center>\n",
        "<center>Universidad Nacional de Colombia</center>\n",
        "\n",
        "## Cuadrado latino:\n",
        "<p align=\"justify\">Un cuadrado latino de tamaño n x n es un arreglo en el cual cada elemento contine un único elemento del conjunto de n elementos <br>\n",
        "S = {s1, s2, ..., sn}, tal que cada elemento  ocurre en cada fila y en cada columna exactamente una vez.</p>"
      ],
      "metadata": {
        "id": "HdPJxiZNA7bR"
      }
    },
    {
      "cell_type": "markdown",
      "source": [
        "<p align=\"justify\">Ahora, para ver si una tabla es un cuadrado latino, lo primero que se va a hacer es verificar que la tabla sea cuadrada, es decir, que tenga la misma cantidad de filas que de columnas.<p>\n",
        "<p align=\"justify\">Para ello, la tabla se va a representar por medio de una matriz donde los elementos del conjunto se representaran secuencialmente desde la letra a, y en dicha matriz se verificará si el número de elementos que tiene, que corresponden a las filas de la tabla, es igual al número de items de la primera fila, que corresponde a la cantidad de columnas.<p>"
      ],
      "metadata": {
        "id": "pBgv_fJpgZjv"
      }
    },
    {
      "cell_type": "code",
      "source": [
        "\"\"\" Funcion que verifica que la matriz sea cuadrada \"\"\"\n",
        "def squareTable(tabla) -> bool:\n",
        "    # Verificar si la tabla tiene un tamaño nxn o mxn\n",
        "    if (len(tabla) == len(tabla[0])):\n",
        "      return True\n",
        "    else:\n",
        "      return False\n",
        "\n",
        "\n",
        "# Ejemplo\n",
        "\n",
        "G = [['a', 'b', 'c', 'd'],\n",
        "     ['c', 'a', 'd', 'b'],\n",
        "     ['b', 'd', 'a', 'c'],\n",
        "     ['d', 'c', 'b', 'a']]\n",
        "\n",
        "print(squareTable(G));"
      ],
      "metadata": {
        "colab": {
          "base_uri": "https://localhost:8080/"
        },
        "id": "KjKk1r6eIkYh",
        "outputId": "6d73dd71-1da6-4b55-e1f8-84fb171d37e6"
      },
      "execution_count": 1,
      "outputs": [
        {
          "output_type": "stream",
          "name": "stdout",
          "text": [
            "True\n"
          ]
        }
      ]
    },
    {
      "cell_type": "markdown",
      "source": [
        "<p align=\"justify\">Luego, se va a ver si cada elemento de la tabla aparece una única vez en cada fila y en cada columna, lo cual se hará iterando en cada una de estas para verificar si la cantidad de elementos diferentes que tienen es igual al número de filas. <p>\n",
        "<p align=\"justify\">En caso de que estos valores no coincidan, significa que el número de elementos diferentes que hay donde se esta iterando es menor al número de filas de la tabla, es decir, que alguno se repite.<p>\n",
        "<p align=\"justify\">Cabe aclarar que solo se compara con la cantidad de filas de la tabla porque previamente se verificó que la tabla fuera cuadrada, por lo que se sabe que el número de filas es igual al número de columnas.<p>"
      ],
      "metadata": {
        "id": "bAt1-Nq6nOFx"
      }
    },
    {
      "cell_type": "code",
      "source": [
        "\"\"\" Funcion que verifica que cada elemento aparezca una unica vez en cada fila y en cada columna \"\"\"\n",
        "def unicaAparicion(tabla) -> bool:\n",
        "    size = len(tabla)\n",
        "\n",
        "    # Verificar los elementos en cada fila\n",
        "    for i in tabla:\n",
        "      elementosFila = set(i)\n",
        "      if(len(elementosFila) != size):\n",
        "        return False\n",
        "    \n",
        "    # Verificar los elementos en cada columna\n",
        "    for j in range(size):\n",
        "      elementosColumna = []\n",
        "      for x in range(size):\n",
        "        elementosColumna.append(tabla[x][j])\n",
        "      if len(set(elementosColumna)) != size:\n",
        "          return False\n",
        "\n",
        "    return True\n",
        "\n",
        "\n",
        "# Ejemplo\n",
        "\n",
        "G = [['a', 'b', 'c', 'd'],\n",
        "     ['c', 'a', 'd', 'b'],\n",
        "     ['b', 'd', 'a', 'c'],\n",
        "     ['d', 'c', 'b', 'a']]\n",
        "\n",
        "# G = [['a', 'b', 'c', 'd'],\n",
        "#      ['c', 'd', 'd', 'd'],\n",
        "#      ['a', 'b', 'd', 'c'],\n",
        "#      ['d', 'a', 'c', 'b']]\n",
        "\n",
        "print(unicaAparicion(G))"
      ],
      "metadata": {
        "id": "LtbguXWZKuXe",
        "colab": {
          "base_uri": "https://localhost:8080/"
        },
        "outputId": "af3509ae-278a-452d-ee25-375867dc5512"
      },
      "execution_count": 2,
      "outputs": [
        {
          "output_type": "stream",
          "name": "stdout",
          "text": [
            "True\n"
          ]
        }
      ]
    },
    {
      "cell_type": "markdown",
      "source": [
        "<p align=\"justify\">Finalmente, con las dos funciones anteriores basta para comprobar las propiedades de un cuadrado latino:<p>\n",
        "1) Que la tabla sea cuadrada.<br>\n",
        "2) Que cada elemento ocurra una única vez en cada fila.<br>\n",
        "3) Que cada elemento ocurra una única vez en cada columna.<br>\n",
        "\n",
        "<p align=\"justify\">De este modo, con una función se validará si las funciones squareTable() y unicaAparicion() son verdaderas, pues de ser asi, todas las propiedades se cumplen, por lo que la tabla será un cuadrado latino.<p>"
      ],
      "metadata": {
        "id": "AbLCslXIpMMT"
      }
    },
    {
      "cell_type": "code",
      "source": [
        "\"\"\" Funcion que recibe una tabla y verifica si es un cuadrado latino \"\"\"\n",
        "def cuadradoLatino(tabla) -> bool:\n",
        "  # Verificar si se cumplen las propiedades de un cuadrado latino\n",
        "  if (unicaAparicion(tabla) & squareTable(tabla)):\n",
        "    print(\"La tabla es un cuadrado latino\")\n",
        "    return True\n",
        "  print(\"La tabla NO es un cuadrado latino\")\n",
        "  return False\n",
        "\n",
        "# Ejemplo\n",
        "\n",
        "# G = [['a', 'b', 'c', 'd'],\n",
        "#      ['c', 'd', 'd', 'd'],\n",
        "#      ['a', 'b', 'd', 'c'],\n",
        "#      ['d', 'a', 'c', 'b']];\n",
        "\n",
        "G = [['a', 'b', 'c', 'd'],\n",
        "     ['c', 'a', 'd', 'b'],\n",
        "     ['b', 'd', 'a', 'c'],\n",
        "     ['d', 'c', 'b', 'a']]\n",
        "\n",
        "print(cuadradoLatino(G))"
      ],
      "metadata": {
        "id": "zipGUxnumE7P",
        "colab": {
          "base_uri": "https://localhost:8080/"
        },
        "outputId": "c4856067-db9b-4848-f743-190130a96173"
      },
      "execution_count": 3,
      "outputs": [
        {
          "output_type": "stream",
          "name": "stdout",
          "text": [
            "La tabla es un cuadrado latino\n",
            "True\n"
          ]
        }
      ]
    },
    {
      "cell_type": "markdown",
      "source": [
        "## Grupo:\n",
        "<p align=\"justify\">Por otro lado, dado que un cuadrado latino no necesariamente es un grupo, se va a verificar si adicionalmente la tabla es un grupo.<p>\n",
        "<p align=\"justify\">Para ello, lo primero que se hará es ver si la tabla es cerrada respecto a la operación, es decir, que cada operación da como resultado un elemento del conjunto.<p>\n",
        "<p align=\"justify\">En este caso, la función va a iterar de manera anidada sobre cada fila y columna, para verificar que el elemento de cada celda corresponda a algún elemento en general de la tabla.<p>"
      ],
      "metadata": {
        "id": "27EQcZugrIPM"
      }
    },
    {
      "cell_type": "code",
      "source": [
        "\"\"\" Funcion para verificar que la tabla es cerrada respecto a la operacion \"\"\"\n",
        "def operacionCerrada(tabla) -> bool:\n",
        "  size = list(range(len(tabla)))\n",
        "\n",
        "  # Se verifica cada elemento de la tabla\n",
        "  for i in size:\n",
        "        for j in size:\n",
        "            if tabla[i][j] not in (tabla[0]):\n",
        "                return False\n",
        "\n",
        "  return True\n",
        "\n",
        "# Ejemplo\n",
        "\n",
        "G = [['a', 'b', 'c', 'd'],\n",
        "     ['c', 'a', 'd', 'b'],\n",
        "     ['b', 'd', 'a', 'c'],\n",
        "     ['d', 'c', 'b', 'a']]\n",
        "\n",
        "print(operacionCerrada(G))"
      ],
      "metadata": {
        "colab": {
          "base_uri": "https://localhost:8080/"
        },
        "id": "n8bUd0TeByVA",
        "outputId": "686a1930-2c99-4f4a-9741-5b208e399d1e"
      },
      "execution_count": 4,
      "outputs": [
        {
          "output_type": "stream",
          "name": "stdout",
          "text": [
            "True\n"
          ]
        }
      ]
    },
    {
      "cell_type": "markdown",
      "source": [
        "<p align=\"justify\">De igual manera, se procede a verificar si en la tabla existe un elemento neutro."
      ],
      "metadata": {
        "id": "2QQD0yZducC9"
      }
    },
    {
      "cell_type": "code",
      "execution_count": 5,
      "metadata": {
        "colab": {
          "base_uri": "https://localhost:8080/"
        },
        "id": "zSJ3ZFp-i51P",
        "outputId": "9eea5b0a-e8ce-402d-ac22-6f427f5133f6"
      },
      "outputs": [
        {
          "output_type": "stream",
          "name": "stdout",
          "text": [
            "True\n"
          ]
        }
      ],
      "source": [
        "\"\"\" Funcion para verificar la existencia de un elemento neutro \"\"\"\n",
        "def neutro(tabla) -> bool:\n",
        "  size = len(tabla)\n",
        "  # Guardar globalmente el elemento neutro\n",
        "  global e\n",
        "\n",
        "  e = chr(97 + size - 1)\n",
        "  for i in range(size):\n",
        "      if e not in tabla[i]:\n",
        "          return False\n",
        "  \n",
        "  return True\n",
        "\n",
        "# Ejemplo\n",
        "\n",
        "G = [['a', 'b', 'c', 'd'],\n",
        "     ['c', 'a', 'd', 'b'],\n",
        "     ['b', 'd', 'a', 'c'],\n",
        "     ['d', 'c', 'b', 'a']]\n",
        "\n",
        "print(neutro(G))"
      ]
    },
    {
      "cell_type": "markdown",
      "source": [
        "<p align=\"justify\">Ahora, se verifica si para cada elemento de la tabla se tiene un inverso con el que al operar se obtenga el elemento neutro previamente encontrado.<p>\n",
        "<p align=\"justify\">Para esto, se va a iterar sobre cada elemento de la tabla y se va a verificar si al operar con otro elemento se obtiene el neutro sin importar si éste opera a la derecha o a la izquierda.<p>\n",
        "<p align=\"justify\">Cabe aclarar, que para operar se va a tomar la representación unicode de cada caracter de la tabla para obtener su posición, motivo por lo que los elementos del conjunto deben estar representados secuencialmente desde la letra a, para que la posición dentro de la tabla sea la correcta.<p>"
      ],
      "metadata": {
        "id": "R-ni9DWGuqG3"
      }
    },
    {
      "cell_type": "code",
      "source": [
        "\"\"\" Funcion que recibe una tabla y verifica si se tiene un inverso por cada elemento \"\"\"\n",
        "def inversos(tabla) -> bool:\n",
        "  size = list(range(len(tabla)))\n",
        "  for i in size:\n",
        "        exists = False\n",
        "        for j in size:\n",
        "            if tabla[i][ord(tabla[j][0]) - 97] == e and tabla[j][ord(tabla[i][0]) - 97] == e:\n",
        "                exists = True\n",
        "                break\n",
        "        if not exists:\n",
        "            return False\n",
        "  \n",
        "  return True;\n",
        "\n",
        "# Ejemplo\n",
        "\n",
        "G = [['a', 'b', 'c', 'd'],\n",
        "     ['c', 'a', 'd', 'b'],\n",
        "     ['b', 'd', 'a', 'c'],\n",
        "     ['d', 'c', 'b', 'a']]\n",
        "\n",
        "print(inversos(G))"
      ],
      "metadata": {
        "id": "f4hfi-eAjmRi",
        "colab": {
          "base_uri": "https://localhost:8080/"
        },
        "outputId": "1ec456d7-432a-4c23-f1e5-e03ce064d73f"
      },
      "execution_count": 6,
      "outputs": [
        {
          "output_type": "stream",
          "name": "stdout",
          "text": [
            "True\n"
          ]
        }
      ]
    },
    {
      "cell_type": "markdown",
      "source": [
        "<p align=\"justify\">Luego, se verifica la asociatividad de la operacion de la tabla, viendo si se cumple la condición ( a * b ) * c = a * ( b * c ) para cualquier combinación de tres elementos dentro del conjunto.<p>\n",
        "<p align=\"justify\">Para ello, se va a tomar la representación unicode de cada caracter de la tabla para obtener su posición dentro de la misma, motivo por el cual es importante que los elementos del conjunto esten representados secuencialmente desde la letra a, ya que en caso contrario la posición dentro de la tabla será incorrecta.<p>\n",
        "<p align=\"justify\">Posteriormente, con estas posiciones se realizaran las operaciones correspondientes dentro de la tabla, que permitiran obtener facilmente el caracter de la respuesta para ver si coincide al operar con diferentes agrupaciones de elementos.<p>"
      ],
      "metadata": {
        "id": "HFjx8LTxwBbQ"
      }
    },
    {
      "cell_type": "code",
      "source": [
        "\"\"\" Funcion que recibe una tabla y verifica si la operacion es asociativa \"\"\"\n",
        "# Nota: los elementos de la tabla deben estar simbolizados con el orden de las letras del alfabeto ej: a,b,c,d,.... y asi sucesivamente\n",
        "def asociatividad(tabla) -> bool:\n",
        "  size = list(range(len(tabla)))\n",
        "\n",
        "  # Probar cada combinacion posible de 3 elementos del conjunto\n",
        "  for i in size:\n",
        "        for j in size:\n",
        "            for k in size:\n",
        "              # Se verifica si las operaciones realizadas son iguales al realizarlas con diferentes asociaciones\n",
        "              # (a*b)*c = a*(b*c)\n",
        "              if tabla[ord(tabla[i][j]) - 97][ord(tabla[k][0]) - 97] != tabla[i][ord(tabla[j][k]) - 97]:\n",
        "                return False\n",
        "\n",
        "  return True\n",
        "\n",
        "# Ejemplo\n",
        "\n",
        "G = [['a', 'b', 'c', 'd'],\n",
        "     ['c', 'a', 'd', 'b'],\n",
        "     ['b', 'd', 'a', 'c'],\n",
        "     ['d', 'c', 'b', 'a']]\n",
        "\n",
        "asociatividad(G)"
      ],
      "metadata": {
        "colab": {
          "base_uri": "https://localhost:8080/"
        },
        "id": "HiiUpiJElG4-",
        "outputId": "d4dd0096-cdf6-427b-b509-068208c75057"
      },
      "execution_count": 7,
      "outputs": [
        {
          "output_type": "execute_result",
          "data": {
            "text/plain": [
              "False"
            ]
          },
          "metadata": {},
          "execution_count": 7
        }
      ]
    },
    {
      "cell_type": "markdown",
      "source": [
        "<p align=\"justify\">Finalmente, con las cuatro funciones anteriores basta para comprobar las propiedades de un grupo:<p>\n",
        "1) Que la operación sea cerrada.<br>\n",
        "2) Existencia de un elemento neutro.<br>\n",
        "3) Existencia de un inverso para cada elemnto del conjunto.<br>\n",
        "4) Que la operación sea asociativa.<br>\n",
        "\n",
        "<p align=\"justify\">De este modo, con una función se validará si las funciones operacionCerrada(), neutro(), inversos() y asociatividad() son verdaderas, pues de ser asi, todas las propiedades se cumplen, por lo que la tabla será un grupo además de ser un cuadrado latino, esto teniendo en cuenta la implicación de que todo grupo es un cuadrado latino aunque no todo cuadrado latino sea un grupo.<p>"
      ],
      "metadata": {
        "id": "03rx8m51tCbJ"
      }
    },
    {
      "cell_type": "code",
      "source": [
        "\"\"\" Funcion que recibe una tabla y verifica si es un grupo \"\"\"\n",
        "def group(tabla) -> bool:\n",
        "  # Verificar si se cumplen las propiedades de un grupo\n",
        "  if (operacionCerrada(tabla) & neutro(tabla) & inversos(tabla) & asociatividad(tabla) ):\n",
        "    print(\"La tabla es un grupo\")\n",
        "    return True;\n",
        "  else:\n",
        "    print(\"La tabla NO es un grupo\")\n",
        "    return False;  \n",
        "\n",
        "# Ejemplo\n",
        "\n",
        "G = [['a', 'b', 'c', 'd'],\n",
        "     ['c', 'a', 'd', 'b'],\n",
        "     ['b', 'd', 'a', 'c'],\n",
        "     ['d', 'c', 'b', 'a']]\n",
        "     \n",
        "group(G)"
      ],
      "metadata": {
        "id": "Kpi7GSiVlR0o",
        "colab": {
          "base_uri": "https://localhost:8080/"
        },
        "outputId": "fafe35a0-8d0d-44ee-d8bc-fea507cb40da"
      },
      "execution_count": 8,
      "outputs": [
        {
          "output_type": "stream",
          "name": "stdout",
          "text": [
            "La tabla NO es un grupo\n"
          ]
        },
        {
          "output_type": "execute_result",
          "data": {
            "text/plain": [
              "False"
            ]
          },
          "metadata": {},
          "execution_count": 8
        }
      ]
    }
  ]
}