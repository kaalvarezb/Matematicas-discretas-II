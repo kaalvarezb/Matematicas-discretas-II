{
  "cells": [
    {
      "cell_type": "markdown",
      "metadata": {
        "id": "view-in-github",
        "colab_type": "text"
      },
      "source": [
        "<a href=\"https://colab.research.google.com/github/kaalvarezb/Matematicas-discretas-II/blob/main/Solucion_Rubik.ipynb\" target=\"_parent\"><img src=\"https://colab.research.google.com/assets/colab-badge.svg\" alt=\"Open In Colab\"/></a>"
      ]
    },
    {
      "cell_type": "markdown",
      "metadata": {
        "id": "NkA3pEcURmyX"
      },
      "source": [
        "# <center>SOLUCIÓN CUBO RUBIK</center>\n",
        "**<center>Karen Tatiana Alvarez Baez</center>**\n",
        "_<center>kaalvarezb@unal.edu.co</center>_\n",
        "\n",
        "<center>Matemáticas discretas II 2023-I</center>\n",
        "<center>Facultad de Ingeniería</center>\n",
        "<center>Universidad Nacional de Colombia</center>"
      ]
    },
    {
      "cell_type": "markdown",
      "metadata": {
        "id": "KiAYVjiWGXpj"
      },
      "source": [
        "## Introducción\n",
        "\n",
        "<p align=\"justify\">\n",
        "El cubo Rubik fue inventado por Ernő Rubik en 1974 y desde entonces ha sido uno de los puzles más famosos y vendidos de la historia; sin embargo, se estima que solo el 5.8% de las personas que han intentado armar el cubo lo han solucionado realmente, mientras que el 94% restante de la población no saben cómo resolverlo a pesar de que en internet se encuentran gran variedad de tutoriales y videos que muestran como armarlo y es aquí donde se da cuenta de que efectivamente el cubo Rubik tiene solución y no solo una, pues hay más de una forma de resolverlo siendo unas más óptimas que otras.\n",
        "</p>\n",
        "<p align=\"justify\">\n",
        "En cuanto a estas soluciones, muchas veces los autores que las presentan replican algoritmos encontrados en otros sitios web o incluso las mismas instrucciones que vienen con el cubo cuando recién se compra, pero esto limita a resolver el cubo siguiendo un patrón de una única manera. Es aquí cuando entran en juego los algoritmos que usan los jugadores profesionales para armar el cubo Rubik en un tiempo récord, los cuales consisten en realizar la menor cantidad posible de movimientos para emparejar los colores de cada cara, pero estos algoritmos no son producto de la suerte, se encuentran matematizando el cubo y usando la teoría de grupos que en principio permite comprender el funcionamiento de los diferentes movimientos que se pueden realizar en el Rubik, para entender con qué secuencia de acciones de grupo permitidas se pueden intercambiar los cuadros de manera que se llegue a la solución del cubo sin importar si es la menor cantidad de acciones posibles.\n",
        "</p>\n",
        "<p align=\"justify\">\n",
        "Así, aunque no se llegue a las soluciones más optimas, el simple hecho de entender cómo funciona el cubo matemática y estructuralmente es una herramienta que lleva al análisis algorítmico de movimientos que consecuentemente permitirán llegar a la configuración inicial del cubo y resolverlo, que a la final es el objetivo del puzle.\n",
        "</p>"
      ]
    },
    {
      "cell_type": "markdown",
      "metadata": {
        "id": "UNP3PZ0AGXpl"
      },
      "source": [
        "## Materiales y métodos\n",
        "### Conceptos:\n",
        "<p align=\"justify\">\n",
        "Para llegar a la solución del cubo Rubik se va a hacer uso de la teoría de grupos, para ello se debe tener en cuenta la definición de un grupo.\n",
        "</p>\n",
        "<p align=\"justify\">\n",
        "<b>Grupo:</b></br>Un grupo es un conjunto G con una operación binaria que satisface las siguientes propiedades:</br>\n",
        "</p>\n",
        "<li>Cerrado respecto a la operación</li>\n",
        "<li>Asociativo</li>\n",
        "<li>Existencia del elemento neutro</li>\n",
        "$$e*a = a \\hspace{2em} \\forall \\thinspace a \\in G$$\n",
        "<li>Existencia de inversos</li>\n",
        "$$\\forall \\thinspace a \\in G \\hspace{0.5em}existe\\hspace{0.5em}un\\hspace{0.5em}elemento\\hspace{0.5em}b\\in G\\hspace{0.5em} tal\\hspace{0.5em}que\\hspace{0.5em}b*a=e$$\n",
        "<p align=\"justify\">\n",
        "También se va a considerar el concepto de permutación\n",
        "</p>\n",
        "<p align=\"justify\">\n",
        "<b>Permutación:</b> Es una correspondencia uno a uno sobre un conjunto x de n elementos.\n",
        "</p>\n",
        "$$ x = {1, 2, 3, 4, ..., n}$$\n",
        "<p align=\"justify\">\n",
        "donde se tienen n! correspondencias\n",
        "</p>\n",
        "<p align=\"justify\">\n",
        "Luego, en base a este concepto se llega a la idea de grupo simétrico.\n",
        "</p>\n",
        "<p align=\"justify\">\n",
        "<b>Grupo simétrico:</b> Es el conjunto de todas las operaciones en x bajo la operación de la composición.\n",
        "</p>\n",
        "<p align=\"center\">\n",
        "$S_{n}$ = {δ: x→x | δ es una biyección} </br></br>\n",
        "</p>\n",
        "\n",
        "### Matematización del cubo Rubik:\n",
        "\n",
        "<p align=\"justify\">\n",
        "Para entender el cubo de forma matemática es importante entender su forma y su configuración respecto a cada pieza. Así, los primero que se puede observar es que cada cara del cubo tiene un total de n x n = $n^2$ cuadros, que en este caso al trabajar sobre el cubo Rubik clásico son 3 x 3 = $3^2$ = 9 cuadros, pero como son 6 caras se tienen un total de 54 cuadros y adicionalmente en cada cara, sin importar los movimientos que se hagan se ve claramente que los centros se mantienen fijos.\n",
        "</p>\n",
        "<p align=\"justify\">\n",
        "Además, se va a considerar el conjunto $C_n$ como el que contiene los movimientos permitidos en el cubo Rubik para una dimensión n x n, que como se mencionó previamente, en este caso va a ser respecto a una dimensión 3 x 3.\n",
        "</p></br>\n",
        "\n",
        "<p align=\"center\">\n",
        "<img src = \"https://raw.githubusercontent.com/kaalvarezb/Matematicas-discretas-II/main/Imagenes%20rubik/Centros%20fijos.png\"></br><i>Imagen 1. Centros fijos del cubo Rubik</br>Fuente: Bolívar Severino, C. A. (2019). Resolviendo el cubo de Rubik con el robot Baxter (Tesis de licenciatura). Universidad de Concepción, Departamento de Ingeniería Informática y Ciencias de la Computación.</i></img>\n",
        "</p>\n",
        "\n",
        "#### Proyección del cubo Rubik:\n",
        "<p align=\"justify\">\n",
        "En base a lo anterior, para entender mejor el comportamiento de cada uno de los cuadros se puede hacer una proyección del cubo para verlos en dos dimensiones o lo que es equivalente, se puede desdoblar tal como se observa en la imagen 2; de este modo, es más sencillo ver los cuadros de todas las caras y para referenciarlos se procede a asignar un número a cada uno a excepción de los centros, que aprovechando que están fijos, se les asignará una letra correspondiente a la posición relativa que tendría la cara respecto a un observador, considerando la siguiente nomenclatura para el conjunto $C_3$:\n",
        "</p>\n",
        "<p align=\"center\">\n",
        "$C_3$ = {U: up, D: down, F: front, B: back, R: right, L: left} = {U, D, F, B, R, L}\n",
        "</p></br>\n",
        "\n",
        "<p align=\"center\">\n",
        "<img src = \"https://github.com/kaalvarezb/Matematicas-discretas-II/blob/main/Imagenes%20rubik/Cubo%20desdoblado.png?raw=true\"></br><i>Imagen 2. Proyección del cubo Rubik</br>Fuente: Tran, R. (2005). A Mathematical Approach To Solving Rubik's Cube. UBC Math308 – Fall 2005.</i></img>\n",
        "</p></br>\n",
        "\n",
        "<p align=\"center\">\n",
        "<img src = \"https://github.com/kaalvarezb/Matematicas-discretas-II/blob/main/Imagenes%20rubik/Cubo%20doblado.png?raw=true\"></br><i>Imagen 3. Referencia de cada cuadro del cubo Rubik</br>Fuente: Tran, R. (2005). A Mathematical Approach To Solving Rubik's Cube. UBC Math308 – Fall 2005.</i></img>\n",
        "</p>\n",
        "<p align=\"justify\">\n",
        "Así, si se quisieran intercambiar los cuadros entre sí a primera vista se podría deducir que como la acción del grupo sobre el cubo es permutar cuadros entonces se está trabajando con el grupo simétrico $S_{54}$; sin embargo, ya se mencionó previamente que los centros de cada cara siempre están fijos y como son seis caras, si descartamos estos cuadros en realidad se estaría trabajando con el grupo simétrico $S_{48}$, pero su tamaño es demasiado grande de modo que sería conveniente descartar algunos movimientos.</br>\n",
        "Para ello, es necesario entender cómo funcionan las permutaciones o acciones de grupo sobre el cubo, que en esta oportunidad se van a dar bajo las rotaciones de 90 grados de cada una de las caras que es posible manipular según el conjunto $C_3$, tal como se ve en la imagen 4.\n",
        "</p></br>\n",
        "<p align=\"center\">\n",
        "<img src = \"https://github.com/kaalvarezb/Matematicas-discretas-II/blob/main/Imagenes%20rubik/Caras%20girando.gif?raw=true\"></br><i>Imagen 4. Rotación de las caras del cubo Rubik</br>Fuente: Porter Kamlin, R. M. (2018). Rubik Invariants.</i></img>\n",
        "</p></br>\n",
        "\n",
        "<p align=\"justify\">\n",
        "En cuanto a los cuadros es de saber que no todos son iguales, pues se tienen 24 cuadros que se encuentra en las esquinas y 24 cuadros que se encuentran en los bordes sobre las aristas, de los cuales, al realizar las rotaciones de 90 grados de cualquier cara, se puede observar que permutan enviando cuadros a su mismo tipo, es decir, que las acciones de grupo envían cuadros de esquina a cuadros de esquina y cuadros de borde a cuadros de borde. Esto se observa incluso en los cuadros centrales que no se mueven ya que, al estar fijos, bajo cualquier permutación van a seguir siendo cuadros centrales.\n",
        "</p></br>\n",
        "\n",
        "#### Cuadros de esquina:\n",
        "\n",
        "<p align=\"justify\">\n",
        "En el cubo Rubik se tienen 8 esquinas y cada una de ellas consta de 3 cuadros que se pueden intercambiar entre sí, de modo que si cada esquina se considerara fija se podría asociar el grupo cíclico $Z_3$, pero hay 8 esquinas, así que el grupo que permuta los cuadros de cada esquina en realidad seria ${Z_3}^8$, teniendo en cuenta que los cuadros intercambian haciendo rotación, pues no se tienen movimientos libres como lo seria quitar un sticker de un cuadro y pegarlo en otro, pues si se hiciera esto el cubo ya no tendría solución.</br>\n",
        "Por otro lado, cada esquina se puede intercambiar con cualquiera de las otras y como tenemos 8 esquinas, entonces el grupo simétrico $S_8$ estaría actuando sobre el conjunto de los índices de cada esquina del cubo.\n",
        "</p></br>\n",
        "<p align=\"center\">\n",
        "<img src = \"https://github.com/kaalvarezb/Matematicas-discretas-II/blob/main/Imagenes%20rubik/Cuadros%20de%20esquina.png?raw=true\"></br><i>Imagen 5. Cuadros de esquina del cubo Rubik</br>Fuente: Porter Kamlin, R. M. (2018). Rubik Invariants.</i></img>\n",
        "</p></br>\n",
        "\n",
        "#### Cuadros de borde:\n",
        "\n",
        "<p align=\"justify\">\n",
        "En el cubo Rubik se tienen 12 aristas en las que cada uno de los bordes tiene 2 cuadros que igualmente pueden intercambiar entre sí, entonces como en el caso anterior, si se considerara un borde fijo se podría asociar el grupo cíclico $Z_2$, que desde el punto de vista del grupo que permuta los cuadros de cada borde seria ${Z_2}^{12}$, sabiendo que se tienen 12 bordes.</br>\n",
        "Adicionalmente, vemos que cada borde puede ser intercambiado con cualquiera de los otros bordes y como se tienen 12 aristas, entonces se deduce que los intercambios son el resultado de la acción del grupo simétrico $S_{12}$.\n",
        "</p></br>\n",
        "<p align=\"center\">\n",
        "<img src = \"https://github.com/kaalvarezb/Matematicas-discretas-II/blob/main/Imagenes%20rubik/Cuadros%20de%20borde.png?raw=true\"></br><i>Imagen 6. Cuadros de borde del cubo Rubik</br>Fuente: Porter Kamlin, R. M. (2018). Rubik Invariants.</i></img>\n",
        "</p></br>\n",
        "\n",
        "<p align=\"justify\">\n",
        "Finalmente, dentro de la matematización del cubo es muy importante destacar que cuando se rota una cara los 90 grados, se tienen cuatro esquinas y cuatro bordes que giran todos juntos, mientras que el centro y todos los demás cuadros se mantienen estáticos, tal como  se observó en la imagen 4 de la rotación de las caras. De este modo, se puede inferir que cada movimiento mantiene igualdad de paridad en las permutaciones de las esquinas respecto a las permutaciones de los bordes.\n",
        "</p>"
      ]
    },
    {
      "cell_type": "markdown",
      "metadata": {
        "id": "82ZyivocGXpp"
      },
      "source": [
        "### Algoritmo:\n",
        "\n",
        "<p align=\"justify\">\n",
        "Ahora, una vez comprendido el funcionamiento y la naturaleza de cada uno de los cuadros del cubo Rubik, se puede plantear el algoritmo propuesto por Martin Schönert haciendo uso de comandos de GAP (Groups, Algorithms, and Programming).</br>\n",
        "En primer lugar se va a definir el grupo del cubo Rubik <i>\"cube\"</i>, el cual se genera por seis elementos correspondientes a las seis caras del cubo, donde cada uno de estos generadores es representado por una permutación que describe cómo se mueven los cuadros numerados <i>(imagen 2)</i> en esa cara específica, considerando además el hecho explicado anteriormente de que las cuatro esquinas y los cuatro bordes giran todos juntos.</br>\n",
        "Así, se puede observar que por ejemplo al rotar hacia la derecha la cara superior \"U\", los cuadros de esquina de dicha cara permutan siguiendo el ciclo (1, 3, 8, 6), los cuadros de borde permutan siguiendo el ciclo (2, 5, 7, 4) y adicionalmente, como en las esquinas y los bordes se tienen también cuadros de otras caras, para las esquinas se siguen los ciclos (9, 33, 25, 17) y (11,35,27,19), y para el borde se sigue el ciclo adicional (10, 34, 26, 18).</br>\n",
        "Cabe aclarar que esta misma analogía se sigue para la rotación de todas las demás caras, que es el movimiento del que se deducen los generadores.\n",
        "</p>"
      ]
    },
    {
      "cell_type": "markdown",
      "metadata": {
        "id": "76P7nVK5GXpq"
      },
      "source": [
        "``` GAP\n",
        "gap> cube := Group(\n",
        "> ( 1, 3, 8, 6)( 2, 5, 7, 4)( 9,33,25,17)(10,34,26,18)(11,35,27,19),\n",
        "> ( 9,11,16,14)(10,13,15,12)( 1,17,41,40)( 4,20,44,37)( 6,22,46,35),\n",
        "> (17,19,24,22)(18,21,23,20)( 6,25,43,16)( 7,28,42,13)( 8,30,41,11),\n",
        "> (25,27,32,30)(26,29,31,28)( 3,38,43,19)( 5,36,45,21)( 8,33,48,24),\n",
        "> (33,35,40,38)(34,37,39,36)( 3, 9,46,32)( 2,12,47,29)( 1,14,48,27),\n",
        "> (41,43,48,46)(42,45,47,44)(14,22,30,38)(15,23,31,39)(16,24,32,40));\n",
        "<permutation group with 6 generators>\n",
        "```"
      ]
    },
    {
      "cell_type": "markdown",
      "metadata": {
        "id": "ghtqAZDzGXpr"
      },
      "source": [
        "<p align=\"justify\">\n",
        "Luego, se procede a verificar el número de elementos que hay en el grupo que se acaba de crear, para el cual, siguiendo el comportamiento de los cuadros de esquina que se pueden intercambiar con cualquiera de las otras ocho esquinas se tendrían 8! correspondencias, pero como los tres cuadros de cada una de las esquinas se permutan entre si se tendrían adicionalmente $3^7$ posibilidades, teniendo en cuenta que cuando siete esquinas están dadas, la octava ya está determinada.</br>\n",
        "De manera similar, como los bordes pueden permutar con cualquiera de los otros 12 bordes se tienen 12! correspondencias, y como los cuadros de cada borde se pueden intercambiar entre si se tendrían $2^{11}$ posibilidades adicionales sabiendo que si se tienen once bordes ubicado el doceavo ya va a estar determinado.<br>\n",
        "De este modo, se tiene que el tamaño del cubo está determinado por:\n",
        "</p>\n",
        "$$8!*12!*2^{11}*3^7$$\n",
        "<p align=\"justify\">\n",
        "Pero, se sabe que la cantidad de permutaciones pares es igual a la cantidad de permutaciones impares, por lo que el tamaño del grupo se va a reducir a la mitad obteniendo:\n",
        "</p></br>\n",
        "$$\\frac{8!*12!*2^{11}*3^7}{2} = 4.325200327*10^{19}$$"
      ]
    },
    {
      "cell_type": "markdown",
      "metadata": {
        "id": "PZ2WQdGbGXpr"
      },
      "source": [
        "``` GAP\n",
        "gap> Size( cube );\n",
        "43252003274489856000\n",
        "```"
      ]
    },
    {
      "cell_type": "markdown",
      "metadata": {
        "id": "7oclhJr9GXps"
      },
      "source": [
        "<p align=\"justify\">\n",
        "Para entender mejor el número se procede a factorizar el tamaño en sus factores primos, que vendria siendo:\n",
        "</p>\n",
        "$$43252003274489856000 = 2^{27}*3^{14}*5^3*7^2*11$$\n",
        "<p align=\"justify\">\n",
        "Lo cual resulta ser más fácil de leer.\n",
        "</p>"
      ]
    },
    {
      "cell_type": "markdown",
      "metadata": {
        "id": "Nz5gktVSGXps"
      },
      "source": [
        "``` GAP\n",
        "gap> Collected( Factors( last ) );\n",
        "[ [ 2, 27 ], [ 3, 14 ], [ 5, 3 ], [ 7, 2 ], [ 11, 1 ] ]\n",
        "```"
      ]
    },
    {
      "cell_type": "markdown",
      "metadata": {
        "id": "BYs7eOx0GXpt"
      },
      "source": [
        "<p align=\"justify\">\n",
        "Una vez se tiene construido el grupo \"cube\" se procede a verificar las orbitas del mismo bajo la acción del grupo, que en este caso resultan ser dos: la órbita para los cuadros de las esquinas y la órbita para los cuadros del borde, mostrando así que tal como se explicó en la matematización del cubo y como se observa en la imagen 4, se tiene un restricción en la operación del grupo al ver que sin importar la cara que se rote o el número de veces que se repita este movimiento no se puede mover un cuadro de una esquina a un borde y viceversa.\n",
        "</p>"
      ]
    },
    {
      "cell_type": "markdown",
      "metadata": {
        "id": "uapo17liGXpu"
      },
      "source": [
        "``` GAP\n",
        "gap> SizeScreen( [71, ] );;\n",
        "gap> orbits := Orbits( cube, [1..48] );\n",
        "[ [ 1, 3, 17, 14, 8, 38, 9, 41, 19, 48, 22, 6, 30, 33, 43, 11, 46,\n",
        "      40, 24, 27, 25, 35, 16, 32 ],\n",
        "  [ 2, 5, 12, 7, 36, 10, 47, 4, 28, 45, 34, 13, 29, 44, 20, 42, 26,\n",
        "      21, 37, 15, 31, 18, 23, 39 ] ]\n",
        "```"
      ]
    },
    {
      "cell_type": "markdown",
      "metadata": {
        "id": "Lr15k4-BGXpu"
      },
      "source": [
        "<p align=\"justify\">\n",
        "Ahora, para observar el comportamiento de la acción de grupo, primero se va a hacer énfasis en la órbita de los cuadros de las esquinas para lo cual se va a crear un nuevo grupo que contenga solo dichos elementos, que al saber que las ocho esquinas tienen tres cuadros cada una, debería resultar en un total de 24 cuadros que se pueden mover.\n",
        "</p>"
      ]
    },
    {
      "cell_type": "markdown",
      "metadata": {
        "id": "130TA7jcGXpv"
      },
      "source": [
        "``` GAP\n",
        "gap> cube1 := Action( cube, orbits[1] );\n",
        "<permutation group with 6 generators>\n",
        "gap> NrMovedPoints( cube1 );\n",
        "24\n",
        "gap> Size( cube1 );\n",
        "88179840\n",
        "```"
      ]
    },
    {
      "cell_type": "markdown",
      "metadata": {
        "id": "9aIdJLM7GXpv"
      },
      "source": [
        "<p align=\"justify\">\n",
        "Seguidamente, se obtienen los bloques del grupo que consisten en los conjuntos de cuadros que son movidos conjuntamente por las permutaciones del grupo, o en otras palabras muestran los cuadros de cada esquina que se mueven transitivamente de manera cíclica, teniendo cuenta el hecho de que si no lo hicieran sería como quitar los sticker del cubo Rubik y acomodarlos a voluntad, que es un hecho que llevaría a un cubo insoluble. </br>Además, los bloques permiten ver la primitividad del grupo al observar que la órbita analizada bajo la acción de grupo resulta en cuadros que son equivalentes entre si bajo las permutaciones de grupo.\n",
        "</p>"
      ]
    },
    {
      "cell_type": "markdown",
      "metadata": {
        "id": "8TwoP-8rGXpv"
      },
      "source": [
        "``` GAP\n",
        "gap> corners := Blocks( cube1, MovedPoints( cube1 ) );\n",
        "[ [ 1, 7, 22 ], [ 2, 14, 20 ], [ 3, 12, 16 ], [ 4, 17, 18 ],\n",
        "  [ 5, 9, 21 ], [ 6, 10, 24 ], [ 8, 11, 23 ], [ 13, 15, 19 ] ]\n",
        "```"
      ]
    },
    {
      "cell_type": "markdown",
      "metadata": {
        "id": "Tfxf8mmuGXpw"
      },
      "source": [
        "<p align=\"justify\">\n",
        "Una vez analizado el comportamiento de los cuadros bajo la acción de grupo, se continua con la implementación. Para ello, se va a definir una acción de homomorfismo con el dominio en la acción que se tiene sobre la órbita de las esquinas y codominio en las esquinas que se mueven de manera conjunta, que no consiste en más que en mapear los cuadros de las esquinas en los bloques de las esquinas.\n",
        "Y como se quiere conocer el conjunto de todas las posibles permutaciones, se saca la imagen al aplicar la acción de grupo en todas las ocho esquinas del cubo, además de obtener el tamaño del grupo resultante que, en este caso tal como se explicó al principio, debería resultar en las permutaciones del tamaño del grupo simétrico $S_8$ que visualmente describe el intercambio de esquinas.\n",
        "</p>\n",
        "$$|S_8| = 8! = 40320$$"
      ]
    },
    {
      "cell_type": "markdown",
      "metadata": {
        "id": "yLMqf0EsGXpw"
      },
      "source": [
        "``` GAP\n",
        "gap> blockhom1 := ActionHomomorphism( cube1, corners, OnSets );\n",
        "<action homomorphism>\n",
        "gap> cube1b := Image( blockhom1 );\n",
        "Group([ (1,2,4,3), (1,3,6,5), (1,5,8,2), (3,4,7,6), (5,6,7,8),\n",
        "  (2,8,7,4) ])\n",
        "gap> Size( cube1b );\n",
        "40320\n",
        "```"
      ]
    },
    {
      "cell_type": "markdown",
      "metadata": {
        "id": "QZY2IGmEGXpx"
      },
      "source": [
        "<p align=\"justify\">\n",
        "Adicionalmente, para conocer lo elementos que permanecen fijos bajo la acción de grupo se obtiene el núcleo del homomorfismo, pues el kernel viene siendo el conjunto de elementos del dominio que se mapean al elemento identidad en el codominio y con el tamaño se puede saber cuántos de los elementos del conjunto son los que permanecen fijos.</br>\n",
        "Cabe aclarar que como se está aplicando la función \"Factors\" en el código, se está descomponiendo el tamaño del núcleo en factores primos, que tal como se puede ver a continuación nos dice que el tamaño es una potencia de 3.</br>\n",
        "Además, se obtiene que el grupo del núcleo es abeliano o de manera similar que es conmutativo, es decir, que sin importar el orden de los elementos el resultado siempre va a ser el mismo. </br>\n",
        "Estos dos últimos aspectos se verifican para entender la naturaleza del grupo y asi saber que propiedades se podrían aplicar de manera conveniente.\n",
        "</p>"
      ]
    },
    {
      "cell_type": "markdown",
      "metadata": {
        "id": "8JBe-ehpGXpx"
      },
      "source": [
        "``` GAP\n",
        "gap> Factors( Size( Kernel( blockhom1 ) ) );\n",
        "[ 3, 3, 3, 3, 3, 3, 3 ]\n",
        "gap> IsElementaryAbelian( Kernel( blockhom1 ) );\n",
        "true\n",
        "```"
      ]
    },
    {
      "cell_type": "markdown",
      "metadata": {
        "id": "lrjE1QyXGXpx"
      },
      "source": [
        "<p align=\"justify\">\n",
        "Así como se obtuvieron los elementos que permanecen fijos bajo la acción de grupo, también se deben conocer los que si varían, de este modo, se recurre a la búsqueda los representantes de las clases complementarias al kernel, que vendrían siendo aquellos elementos que no se encuentran en el núcleo y por lo tanto si se mueven bajo la acción del grupo. </br>\n",
        "Y finalmente como se ve a continuación, se aplica la función \"Size\" para obtener el número de esquinas que se mueven bajo la acción del grupo.\n",
        "</p>"
      ]
    },
    {
      "cell_type": "markdown",
      "metadata": {
        "id": "PGA357m8GXpy"
      },
      "source": [
        "``` GAP\n",
        "gap> cmpl1 := ComplementClassesRepresentatives( cube1, Kernel( blockhom1 ) );\n",
        "[ Group([ (1,3,4,2)(7,16,17,14)(12,18,20,22),\n",
        "      (1,2,3,4,5,6,13)(7,14,16,17,21,10,15)(9,24,19,22,20,12,18),\n",
        "      (1,2,3,4,5,8,13)(7,14,16,17,21,23,15)(9,11,19,22,20,12,18) ]) ]\n",
        "gap> cmpl1 := cmpl1[1];;\n",
        "gap> Size( cmpl1 );\n",
        "40320\n",
        "```"
      ]
    },
    {
      "cell_type": "markdown",
      "metadata": {
        "id": "kas3z-d_GXpy"
      },
      "source": [
        "<p align=\"justify\">\n",
        "Luego, a pesar de que en teoría el kernel del homomorfismo resulta solo en las esquinas que se mantienen fijas y las clases complementarias representan las esquinas que se mueven bajo la acción del grupo, se diría que a simple vista son dos grupos complementarios del homomorfismo no más por la manera en que se obtuvieron los grupos. Sin embargo, se va a verificar que las propiedades para los grupos complementarios si se cumplan, por lo que en primer lugar se va a realizar la intersección entre los dos grupos y se va a obtener el número de elementos que se encuentran en el conjunto resultante, que tal como se verá más adelante va a ser 1, que significa que la intersección es mínima, teniendo así un indicativo de que los grupos son complementarios. Adicionalmente, se va a verificar si el cierre del grupo del kernel del homomorfismo y los representantes de las clases complementarias es igual al grupo de las orbitas de esquina, que igualmente se verá que es verdadero, lo que significa que su combinación abarca todos los elementos que se encuentran en el grupo de las acciones de las orbitas de esquina. </br>\n",
        "Por otro lado, también se puede ver que los representantes de las clases complementarias son un complemento valido, verificando si el mapeo restringido del homomorfismo a las clases complementarias es biyectivo, ya que de ser así, implicaría que cada elemento de los representantes de las clases complementarias tienen una imagen única en el homomorfismo, de modo que con el kernel del homomorfismo se formaría un complemento válido.\n",
        "</p>"
      ]
    },
    {
      "cell_type": "markdown",
      "metadata": {
        "id": "6pchZmI8GXpy"
      },
      "source": [
        "``` GAP\n",
        "gap> Size( Intersection( cmpl1, Kernel( blockhom1 ) ) );\n",
        "1\n",
        "gap> ClosureGroup( cmpl1, Kernel( blockhom1 ) ) = cube1;\n",
        "true\n",
        "gap> IsBijective( RestrictedMapping( blockhom1, cmpl1 ) );\n",
        "true\n",
        "```"
      ]
    },
    {
      "cell_type": "markdown",
      "metadata": {
        "id": "8BOj4fBiGXpz"
      },
      "source": [
        "<p align=\"justify\">\n",
        "En base a todo lo anterior y sabiendo que el grupo de las acciones sobre la órbita de los cuadros de esquina es un subgrupo de índice 3 en el producto Wreath de un grupo cíclico de orden 3 con $S_8$, tenemos que ese índice 3 es el que indica que no se tiene total libertad para girar las esquinas, pues si se realiza un movimiento en una esquina en una cierta dirección, otras esquinas también se verán afectadas y se limitarán las operaciones validas que puedan realizarse. Así, se deduce que las operaciones en el grupo de posibles permutaciones de las esquinas no son completamente independientes, y se tienen restricciones en las combinaciones de movimientos que se pueden realizar para mantenerse dentro del grupo. Es por eso que en este caso se tiene una propiedad particular en el grupo de las acciones en las esquinas, que indica que, al girar una esquina en el sentido de las agujas del reloj, para compensar se debe girar otra esquina en sentido contrario a las agujas del reloj, sino el movimiento resultante no quedara dentro del grupo de permutaciones que representan las operaciones al girar las esquinas del cubo Rubik.\n",
        "</p>"
      ]
    },
    {
      "cell_type": "markdown",
      "metadata": {
        "id": "_pSUw2IaGXpz"
      },
      "source": [
        "``` GAP\n",
        "gap> (1,7,22) in cube1;\n",
        "false\n",
        "gap> (1,7,22)(2,20,14) in cube1;\n",
        "true\n",
        "```"
      ]
    },
    {
      "cell_type": "markdown",
      "metadata": {
        "id": "GxvZH6e0GXp0"
      },
      "source": [
        "<p align=\"justify\">\n",
        "Seguidamente, tal como se hizo con la órbita de los cuadros de las esquinas, se realiza el mismo análisis para las orbitas de los bordes teniendo en cuenta la explicación dada previamente con la primera orbita para cada una de las funciones aplicadas.\n",
        "</p>"
      ]
    },
    {
      "cell_type": "markdown",
      "metadata": {
        "id": "ry487Bl8GXp0"
      },
      "source": [
        "``` GAP\n",
        "gap> cube2 := Action( cube, orbits[2] );;\n",
        "gap> Size( cube2 );\n",
        "980995276800\n",
        "gap> edges := Blocks( cube2, MovedPoints( cube2 ) );\n",
        "[ [ 1, 11 ], [ 2, 17 ], [ 3, 19 ], [ 4, 22 ], [ 5, 13 ], [ 6, 8 ],\n",
        "  [ 7, 24 ], [ 9, 18 ], [ 10, 21 ], [ 12, 15 ], [ 14, 20 ],\n",
        "  [ 16, 23 ] ]\n",
        "gap> blockhom2 := ActionHomomorphism( cube2, edges, OnSets );;\n",
        "gap> cube2b := Image( blockhom2 );;\n",
        "gap> Size( cube2b );\n",
        "479001600\n",
        "gap> Factors( Size( Kernel( blockhom2 ) ) );\n",
        "[ 2, 2, 2, 2, 2, 2, 2, 2, 2, 2, 2 ]\n",
        "gap> IsElementaryAbelian( Kernel( blockhom2 ) );\n",
        "true\n",
        "gap> cmpl2 := ComplementClassesRepresentatives( cube2, Kernel( blockhom2 ) );;\n",
        "gap> Length( cmpl2 );\n",
        "4\n",
        "```"
      ]
    },
    {
      "cell_type": "markdown",
      "metadata": {
        "id": "z_qAjJ1eGXp0"
      },
      "source": [
        "<p align=\"justify\">\n",
        "Para este grupo, similar al grupo de las acciones sobre la órbita de los cuadros de esquina, se tiene un subgrupo de índice 2 en el producto Wreath de un grupo cíclico de orden 2 con $S_{12}$, y se sabe que ese índice 2 también indica que no se tiene total libertad para voltear los bordes de manera independiente, pues nuevamente cuando se voltea un borde en una dirección determinada, se está alterando la posición y orientación de los cubitos que forman ese borde, afectando directamente a otros bordes adyacentes, lo que requiere que también se volteen en la dirección opuesta para mantener la coherencia y preservar la estructura del cubo, de lo contrario, el movimiento resultante no quedara dentro del grupo de permutaciones que representan las operaciones al girar los bordes del cubo Rubik.\n",
        "</p>"
      ]
    },
    {
      "cell_type": "markdown",
      "metadata": {
        "id": "m7DjiCNEGXp1"
      },
      "source": [
        "``` GAP\n",
        "gap> (1,11) in cube2;\n",
        "false\n",
        "gap> (1,11)(2,17) in cube2;\n",
        "true\n",
        "```"
      ]
    },
    {
      "cell_type": "markdown",
      "metadata": {
        "id": "ZfUsWPq7GXp1"
      },
      "source": [
        "<p align=\"justify\">\n",
        "Posteriormente, tal como menciona el autor en el ejemplo del cubo Rubik usando GAP, en este caso tal como se ha venido explicando, el grupo \"cube1\" describe las acciones para la órbita de las esquinas del cubo y el grupo \"cube2\" describe las acciones para la órbita de los bordes del cubo, y como estas orbitas son las del grupo inicial \"cube\", entonces se espera que el grupo de todas las posibles permutaciones del cubo Rubik sea un subgrupo del producto directo de los grupos que describen las acciones en las dos órbitas del cubo.</br>\n",
        "Siguiendo esta teoría, al comparar los tamaños de los tres grupos vemos que esto si se cumple, lo que significa que todas las configuraciones posibles del cubo Rubik pueden construirse mediante la combinación de movimientos válidos en las esquinas y en los bordes.\n",
        "</p>"
      ]
    },
    {
      "cell_type": "markdown",
      "metadata": {
        "id": "Lk545b8_GXp2"
      },
      "source": [
        "``` GAP\n",
        "gap> Size( cube );\n",
        "43252003274489856000\n",
        "gap> Size( cube1 ) * Size( cube2 );\n",
        "86504006548979712000\n",
        "```"
      ]
    },
    {
      "cell_type": "markdown",
      "metadata": {
        "id": "p6A00e5XGXp2"
      },
      "source": [
        "<p align=\"justify\">\n",
        "Ahora, teniendo en cuenta que el grupo inicial \"cube\" de los posibles movimientos del cubo Rubik tiene un índice 2, tal como sucedió con el análisis de las esquinas y los bordes, se entiende que dentro de las configuraciones del cubo Rubik no se puede operar independientemente en las esquinas y los bordes, pues no es posible intercambiar un conjunto específico de esquinas sin afectar también a los bordes del cubo.</br>\n",
        "Es por esto que se llega a la conclusión de que se tienen restricciones en los movimientos del cubo e interdependencia entre las esquinas y los bordes, de modo que tal como menciona el autor, por cada para de esquinas que se intercambien, también se deben permutar un par de bordes o aristas y viceversa, si no, la configuración de movimientos resultantes no va a estar dentro del grupo de posibles movimientos del cubo Rubik.\n",
        "</p>"
      ]
    },
    {
      "cell_type": "markdown",
      "metadata": {
        "id": "z1Wtd9H3GXp2"
      },
      "source": [
        "``` GAP\n",
        "gap> (17,19)(11,8)(6,25) in cube;\n",
        "false\n",
        "gap> (7,28)(18,21) in cube;\n",
        "false\n",
        "gap> (17,19)(11,8)(6,25)(7,28)(18,21) in cube;\n",
        "true\n",
        "```"
      ]
    },
    {
      "cell_type": "markdown",
      "metadata": {
        "id": "cNyHjK1TGXp3"
      },
      "source": [
        "<p align=\"justify\">\n",
        "Luego, se va a encontrar el centro del grupo, que por definición es el subgrupo que contiene los elementos que conmutan con todos los elementos del grupo, es decir, los elementos que se pueden intercalar antes o después de cualquier otra operación en el grupo sin cambiar el resultado final o más específicamente son las operaciones que no alteran el cubo independientemente del orden en el que se realicen.</br>\n",
        "En este caso se obtiene la permutación (2,34)(4,10)(5,26)(7,18)(12,37)(13,20)(15,44)(21,28)(23,42)(29,36)(31,45)(39,47) que no altera el estado final del cubo sin importar si se realiza antes o después de una operación.\n",
        "</p>"
      ]
    },
    {
      "cell_type": "markdown",
      "metadata": {
        "id": "WZ4gX8DHGXp3"
      },
      "source": [
        "``` GAP\n",
        "gap> z := Centre( cube );\n",
        "Group(\n",
        "[ (2,34)(4,10)(5,26)(7,18)(12,37)(13,20)(15,44)(21,28)(23,42)(29,\n",
        "    36)(31,45)(39,47) ])\n",
        "```"
      ]
    },
    {
      "cell_type": "markdown",
      "metadata": {
        "id": "umZlJ7E6GXp4"
      },
      "source": [
        "<p align=\"justify\">\n",
        "Finalmente, viendo que el modelo propuesto sigue las reglas planteadas analíticamente, se espera que a partir de este se obtenga una secuencia de movimientos que den solución a una cierta configuración permitida dentro del cubo Rubik, transformándolo a su estado original a partir de las permutaciones obtenidas.</br>\n",
        "Para ello, se descompone el elemento dado del grupo del cubo en un producto de los generadores del grupo, introduciendo un grupo libre y un homomorfismo desde el grupo libre hacia el grupo del cubo, de modo que se va a tener un homomorfismo que mapea los generadores del grupo libre a los generadores del grupo del cubo o de manera más directa se va a descomponer un elemento dado del grupo del cubo de Rubik en una secuencia de giros de las caras representada por los generadores del grupo.</br>\n",
        "Una vez hecho esto para la configuración inicial, se va a tener un homomorfismo que va a poder descomponer elementos en generadores.\n",
        "</p>"
      ]
    },
    {
      "cell_type": "markdown",
      "metadata": {
        "id": "eKWRivTTGXp4"
      },
      "source": [
        "``` GAP\n",
        "gap> f := FreeGroup(\"t\",\"l\",\"f\",\"r\",\"e\",\"b\");\n",
        "<free group on the generators [ t, l, f, r, e, b ]>\n",
        "gap> hom := GroupHomomorphismByImages( f, cube, GeneratorsOfGroup(f),\n",
        "> GeneratorsOfGroup(cube) );\n",
        "[ t, l, f, r, e, b ] ->\n",
        "[ (1,3,8,6)(2,5,7,4)(9,33,25,17)(10,34,26,18)(11,35,27,19),\n",
        "  (1,17,41,40)(4,20,44,37)(6,22,46,35)(9,11,16,14)(10,13,15,12),\n",
        "  (6,25,43,16)(7,28,42,13)(8,30,41,11)(17,19,24,22)(18,21,23,20),\n",
        "  (3,38,43,19)(5,36,45,21)(8,33,48,24)(25,27,32,30)(26,29,31,28),\n",
        "  (1,14,48,27)(2,12,47,29)(3,9,46,32)(33,35,40,38)(34,37,39,36),\n",
        "  (14,22,30,38)(15,23,31,39)(16,24,32,40)(41,43,48,46)(42,45,47,44) ]\n",
        "```"
      ]
    },
    {
      "cell_type": "markdown",
      "metadata": {
        "id": "qqNmIn8mGXp4"
      },
      "source": [
        "## Resultados\n",
        "<p align=\"justify\">\n",
        "Con el modelo planteado anteriormente que se presenta por el autor del ejemplo de GAP \"Analyzing Rubik's Cube with GAP\", se obtuvo un entendimiento completo y matemático del funcionamiento de cada una de las piezas del cubo Rubik desde la percepción de cuadros de esquina, borde y centro, hasta los movimientos permitidos dentro del cubo a raíz de cada uno de estos cuadros, cuyos comportamientos y permutaciones son distintos pero en la configuración de movimientos en el cubo son interdependientes entre si al tener la premisa de que cuando se gira una cara, se están girando ciertas esquinas y ciertos bordes de manera conjunta, y lo mismo pasa si se realiza un movimiento visto desde la perspectiva de un cuadro de esquina o de borde.</br>\n",
        "Teniendo en cuenta esto, es posible dar una solución al cubo Rubik, entendiéndose como la posición de los cuadros en la que todos los colores se encuentran en una misma cara, o desde el punto de vista de notación de cada uno de los cuadros, cuando cada número queda en la posición inicial que se muestra en la proyección de cubo en la imagen 2.\n",
        "</p>"
      ]
    },
    {
      "cell_type": "markdown",
      "metadata": {
        "id": "cy1L3LEGGXp5"
      },
      "source": [
        "<p align=\"justify\">\n",
        "Cabe aclarar, que el modelo concluyó con la generación de un homomorfismo que descompone los elementos del cubo Rubik en una secuencia de giros de las caras representada por los generadores del grupo, lo que permite encontrar soluciones manuales para devolver el cubo a su estado original, y en especial permite obtener una secuencia de movimientos de términos de los generadores de un grupo libre.</br>\n",
        "Ahora, para poner en funcionamiento el modelo, se va aplicar dicho homomorfismo al elemento del centro del cubo Rubik, que como ya se había explicado, corresponde al subgrupo de operaciones que pueden realizarse tanto antes como después de cualquier otra operación y que resultan en el mismo estado, con esto se va a poder encontrar una representación del elemento del centro en términos de los generadores del grupo libre, que serán una secuencia de giros de las caras del cubo Rubik, que en este caso consta de 106 elementos, que no necesariamente es lo más óptimo pero funciona dentro de una solución manual.\n",
        "</p>"
      ]
    },
    {
      "cell_type": "markdown",
      "metadata": {
        "id": "nhk8psZuGXqh"
      },
      "source": [
        "```\n",
        "gap> PreImagesRepresentative( hom, z.1 );\n",
        "l^-1*t^-1*e^-1*t^2*e*l*f*r*t^-1*r^-1*f^-1*t*f*r*t*r^-1*t^-1*f^-1*t^\n",
        "-1*f*t*l*t*l^-1*f^-1*l*t^-1*l^-1*f*r*t^-1*r^-1*f^-1*l*t*f*t^-1*f^\n",
        "-1*l^-1*t*f^-1*l^-1*t^-1*l*t*f*t^-2*f*t*f^-1*t^-1*l^-1*t^-1*l*t^-1*l^\n",
        "-1*t*e^-1*t*e*l*t*l*t*e*l^-1*e^-1*t^-1*l^-3*b*f*b^-1*l^-1*f^-1*t*l^\n",
        "-1*f*t*f*l^-1*t^-1*b*r^-1*b^-1*t^-2*e^-1*r*e*r*f^-1*e*t^-1*e^-1*r^\n",
        "-2*t^-2*l^-1*b^-1*r^-1*e^-1\n",
        "gap> Length( last );\n",
        "106\n",
        "```"
      ]
    },
    {
      "cell_type": "markdown",
      "metadata": {
        "id": "GyhYkr52GXqh"
      },
      "source": [
        "<p align=\"justify\">\n",
        "Como se ve que que la descomposición funcionó correctamente con el elemento centro del cubo Rubik, entonces se va a probar ahora con un elemento arbitrario del grupo del cubo, para lo cual igualmente se va a obtener una secuencia de giros de las caras utilizando los generadores del grupo libre para ver cómo se puede obtener una configuración particular del cubo utilizando los movimientos básicos del cubo, que en este caso, con el elemento seleccionado (17,19)(11,8)(6,25)(7,28)(18,21), resulta en una secuencia de 77 movimientos.\n",
        "</p>"
      ]
    },
    {
      "cell_type": "markdown",
      "metadata": {
        "id": "AgaC4GSkGXqi"
      },
      "source": [
        "```\n",
        "gap> PreImagesRepresentative( hom, (17,19)(11,8)(6,25)(7,28)(18,21) );\n",
        "l^-1*t^-1*l*f*r*t*r^-1*f^-1*l*t*f*t^-1*f^-1*l^-1*t^2*f*t*l*t*l^-1*f^\n",
        "-1*l*t^-1*l^-1*f*t^-1*f^-1*l*t*l^-1*t*l*t^-2*l^-1*f*t*r*t^-1*r^\n",
        "-1*t*r*t^-1*r^-1*f^-1*t*l*f^-1*l^-1*f*l^-1*t^-1*l*t^-2*f*t*f^-1*l^\n",
        "-1*f^-1*l^-2*f*l*e^-1*t*e*l*t^-1*e^-1*t^-1*e*l*b*f^-1*b^-1\n",
        "gap> Length( last );\n",
        "77\n",
        "```"
      ]
    },
    {
      "cell_type": "markdown",
      "metadata": {
        "id": "PCalez-MGXqi"
      },
      "source": [
        "<p align=\"justify\">\n",
        "Hasta este punto, se obtuvieron resultados correctos y sin errores, de tal manera que se va a probar con cualquier elemento al azar que se encuentre dentro del grupo del cubo Rubik haciendo uso de la función “Random” de GAP sobre el grupo del cubo, ya que la descomposición debería servir con cualquier elemento siempre y cuando se encuentre dentro del grupo del cubo</br>\n",
        "En este caso para el elemento aleatorio obtenido se tiene que la secuencia resultante consta de 100 elementos, que claramente como se ha visto en las anteriores pruebas, va variando de acuerdo al elemento al que se le haga la descomposición.\n",
        "</p>"
      ]
    },
    {
      "cell_type": "markdown",
      "metadata": {
        "id": "aHU2KuYgGXqi"
      },
      "source": [
        "```\n",
        "gap> r := Random( cube );\n",
        "(1,43,6,27,32,46)(2,4,13,34,10,20)(3,38,40,9,24,17)(5,15,45,23,29,47,\n",
        "26,44,31,42,36,39)(7,18)(8,22)(11,33,48,14,35,30)(12,21,37,28)(16,\n",
        "19)(25,41)\n",
        "gap> pre := PreImagesRepresentative( hom, r );\n",
        "e^-1*r*f^-1*t^-1*r*l*e*b^-1*e^-1*t^-1*b^-1*e^-1*b*l^-1*f^-1*l*f^\n",
        "-1*l*t^-1*f*b*f^2*b^-1*t*f^-1*l*f*l*t*l^-1*t^2*l^-1*f^-1*l*f*l*f*t^\n",
        "-1*f^-1*l^-1*t^-1*l*t^2*l^-1*t*l*f^-1*l*f*l^-1*t^-2*l^-1*t^-1*l^\n",
        "-1*e*l*e^-1*t*l*t^-3*l*t*f*t^-1*f^-2*l^-1*f*t*f*t^-1*f^2*l*f*l^-1*t^\n",
        "-1*l^-1*t*l*t*f*r*t*r^-1*t^-1*f^-1*t^-1*l^-1*t^-1*e^-1*t*e*l\n",
        "gap> Length( last );\n",
        "100\n",
        "```"
      ]
    },
    {
      "cell_type": "markdown",
      "metadata": {
        "id": "OhXA-Rx8GXqi"
      },
      "source": [
        "<p align=\"justify\">\n",
        "Sin embargo, pese a que se obtiene la descomposición y la secuencia de movimientos a realizar para devolver el cubo a su estado original, se debe verificar si en realidad si es una descomposición valida, para lo cual se va a verificar que al aplicar el homomorfismo sobre la secuencia obtenida, la imagen resulte en el elemento aleatorio que se obtuvo del grupo del cubo Rubik, que en este caso resulta ser verdadero, lo que significa que la descomposición obtenida es correcta y por lo tanto permite reconstruir la configuración original del cubo a partir de la secuencia obtenida de giros de las caras.\n",
        "</p>"
      ]
    },
    {
      "cell_type": "markdown",
      "metadata": {
        "id": "_vH_9tCVGXqj"
      },
      "source": [
        "```\n",
        "gap> Image( hom, pre );\n",
        "(1,43,6,27,32,46)(2,4,13,34,10,20)(3,38,40,9,24,17)(5,15,45,23,29,47,\n",
        "26,44,31,42,36,39)(7,18)(8,22)(11,33,48,14,35,30)(12,21,37,28)(16,\n",
        "19)(25,41)\n",
        "gap> last = r;\n",
        "true\n",
        "```"
      ]
    },
    {
      "cell_type": "markdown",
      "metadata": {
        "id": "P11np644GXqj"
      },
      "source": [
        "## Conclusiones\n",
        "<p align=\"justify\">\n",
        "En base al análisis matemático realizado para el cubo de Rubik utilizando conceptos de teoría de grupos tales como la definición de grupo en sí, el grupo simétrico, el grupo cíclico y homomorfismos, se pudo obtener una comprensión profunda de la estructura y propiedades del cubo visto desde la perspectiva de un grupo y partiendo desde proposiciones de su funcionamiento de manera analítica se pudo explicar matemáticamente cómo es posible dicho razonamiento, sin mencionar que gracias a que el cubo se puede manipular mediante los giros de las caras, se pudieron estudiar las permutaciones posibles y las relaciones entre ellas, que son las que dan lugar a movimientos dentro del mismo cubo, que al seguir una determinada secuencia resultan en la configuración original. Hecho que fue posible gracias al uso de conceptos adicionales como los complementos y la existencia de subgrupos de índice faltantes que fueron de gran ayuda para determinar las restricciones y las relaciones entre las operaciones del cubo Rubik, tanto para los cuadros de esquina y de borde por separado, como para los movimientos propios de cada una de las caras.\n",
        "</p>\n",
        "<p align=\"justify\">\n",
        "Por otro lado, se pudo ver a través de un algoritmo como específicamente haciendo uso de un grupo libre en el que se describen todos los posibles movimientos del cubo Rubik y un homomorfismo que relacione ese grupo con el grupo del cubo, se puede descomponer cualquier configuración posible dentro del Rubik en una secuencia de movimientos que resulten en la configuración del cubo resuelto y además obteniendo la imagen del homomorfismo aplicado sobre la secuencia de movimientos resultantes, se puede comprobar que la descomposición es correcta y efectivamente corresponde a una configuración dentro del grupo del cubo.\n",
        "</p>"
      ]
    },
    {
      "cell_type": "markdown",
      "metadata": {
        "id": "MqEvmfDvGXqj"
      },
      "source": [
        "## Referencias\n",
        "\n",
        "<p align=\"justify\">\n",
        "The GAP Group. Rubik's Cube. Recuperado de https://www.gap-system.org/Doc/Examples/rubik.html\n",
        "</p>\n",
        "<p align=\"justify\">\n",
        "Porter Kamlin, R. M. (2018). Rubik Invariants. Recuperado de http://universo.math.org.mx/2018-1/Rubik/rubikinvariants.html\n",
        "</p>\n",
        "<p align=\"justify\">\n",
        "Bolívar Severino, C. A. (2019). Resolviendo el cubo de Rubik con el robot Baxter (Tesis de licenciatura). Universidad de Concepción, Departamento de Ingeniería Informática y Ciencias de la Computación.\n",
        "</p>\n",
        "<p align=\"justify\">\n",
        "Tran, R. (2005). A Mathematical Approach To Solving Rubik's Cube. UBC Math308 – Fall 2005.\n",
        "</p>\n",
        "<p align=\"justify\">\n",
        "Red Bull. (2023). Cubo de Rubik: 10 curiosidades. Recuperado de https://www.redbull.com/mx-es/cubo-rubik-10-curiosidades</p>"
      ]
    }
  ],
  "metadata": {
    "colab": {
      "provenance": [],
      "include_colab_link": true
    },
    "kernelspec": {
      "display_name": "Python 3",
      "name": "python3"
    },
    "language_info": {
      "codemirror_mode": {
        "name": "ipython",
        "version": 3
      },
      "file_extension": ".py",
      "mimetype": "text/x-python",
      "name": "python",
      "nbconvert_exporter": "python",
      "pygments_lexer": "ipython3",
      "version": "3.11.0"
    }
  },
  "nbformat": 4,
  "nbformat_minor": 0
}