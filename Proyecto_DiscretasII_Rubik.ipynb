{
  "cells": [
    {
      "attachments": {},
      "cell_type": "markdown",
      "metadata": {
        "id": "NkA3pEcURmyX"
      },
      "source": [
        "# <center>SOLUCIÓN CUBO RUBIK</center>\n",
        "**<center>Karen Tatiana Alvarez Baez</center>**\n",
        "_<center>kaalvarezb@unal.edu.co</center>_\n",
        "\n",
        "<center>Matemáticas discretas II 2023-I</center>\n",
        "<center>Facultad de Ingeniería</center>\n",
        "<center>Universidad Nacional de Colombia</center>"
      ]
    },
    {
      "attachments": {},
      "cell_type": "markdown",
      "metadata": {},
      "source": [
        "## Introducción\n",
        "\n",
        "<p align=\"justify\">\n",
        "El cubo Rubik fue inventado por Ernő Rubik en 1974 y desde entonces ha sido uno de los puzles más famosos y vendidos de la historia; sin embargo, se estima que solo el 5.8% de las personas que han intentado armar el cubo lo han solucionado realmente, mientras que el 94% restante de la población no saben cómo resolverlo a pesar de que en internet se encuentran gran variedad de tutoriales y videos que muestran como armarlo y es aquí donde se da cuenta de que efectivamente el cubo Rubik tiene solución y no solo una, pues hay más de una forma de resolverlo siendo unas más óptimas que otras.\n",
        "</p>\n",
        "<p align=\"justify\">\n",
        "En cuanto a estas soluciones, muchas veces los autores que las presentan replican algoritmos encontrados en otros sitios web o incluso las mismas instrucciones que vienen con el cubo cuando recién se compra, pero esto limita a resolver el cubo siguiendo un patrón de una única manera. Es aquí cuando entran en juego los algoritmos que usan los jugadores profesionales para armar el cubo Rubik en un tiempo récord, los cuales consisten en realizar la menor cantidad posible de movimientos para emparejar los colores de cada cara, pero estos algoritmos no son producto de la suerte, se encuentran matematizando el cubo y usando la teoría de grupos que en principio permite comprender el funcionamiento de los diferentes movimientos que se pueden realizar en el Rubik, para entender con qué secuencia de acciones de grupo se pueden intercambiar los cuadros de manera que se llegue a la solución del cubo sin importar si es la menor cantidad de acciones posibles.\n",
        "</p>"
      ]
    },
    {
      "attachments": {},
      "cell_type": "markdown",
      "metadata": {},
      "source": [
        "## Materiales y métodos\n",
        "<p align=\"justify\"></p>"
      ]
    },
    {
      "attachments": {},
      "cell_type": "markdown",
      "metadata": {},
      "source": [
        "``` GAP\n",
        "gap> cube := Group(\n",
        "> ( 1, 3, 8, 6)( 2, 5, 7, 4)( 9,33,25,17)(10,34,26,18)(11,35,27,19),\n",
        "> ( 9,11,16,14)(10,13,15,12)( 1,17,41,40)( 4,20,44,37)( 6,22,46,35),\n",
        "> (17,19,24,22)(18,21,23,20)( 6,25,43,16)( 7,28,42,13)( 8,30,41,11),\n",
        "> (25,27,32,30)(26,29,31,28)( 3,38,43,19)( 5,36,45,21)( 8,33,48,24),\n",
        "> (33,35,40,38)(34,37,39,36)( 3, 9,46,32)( 2,12,47,29)( 1,14,48,27),\n",
        "> (41,43,48,46)(42,45,47,44)(14,22,30,38)(15,23,31,39)(16,24,32,40) );\n",
        "<permutation group with 6 generators>\n",
        "```"
      ]
    },
    {
      "attachments": {},
      "cell_type": "markdown",
      "metadata": {},
      "source": [
        "## Resultados\n",
        "<p align=\"justify\"></p>"
      ]
    },
    {
      "attachments": {},
      "cell_type": "markdown",
      "metadata": {},
      "source": [
        "## Conclusiones\n",
        "<p align=\"justify\"></p>"
      ]
    },
    {
      "attachments": {},
      "cell_type": "markdown",
      "metadata": {},
      "source": [
        "## Referencias\n",
        "<p align=\"justify\"></p>"
      ]
    }
  ],
  "metadata": {
    "colab": {
      "authorship_tag": "ABX9TyOLaGVY2NGJuEdyQ//VZGiY",
      "provenance": []
    },
    "kernelspec": {
      "display_name": "Python 3",
      "name": "python3"
    },
    "language_info": {
      "codemirror_mode": {
        "name": "ipython",
        "version": 3
      },
      "file_extension": ".py",
      "mimetype": "text/x-python",
      "name": "python",
      "nbconvert_exporter": "python",
      "pygments_lexer": "ipython3",
      "version": "3.11.0"
    }
  },
  "nbformat": 4,
  "nbformat_minor": 0
}
