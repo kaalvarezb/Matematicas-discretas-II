{
  "cells": [
    {
      "attachments": {},
      "cell_type": "markdown",
      "metadata": {
        "id": "NkA3pEcURmyX"
      },
      "source": [
        "# <center>SOLUCIÓN CUBO RUBIK</center>\n",
        "**<center>Karen Tatiana Alvarez Baez</center>**\n",
        "_<center>kaalvarezb@unal.edu.co</center>_\n",
        "\n",
        "<center>Matemáticas discretas II 2023-I</center>\n",
        "<center>Facultad de Ingeniería</center>\n",
        "<center>Universidad Nacional de Colombia</center>"
      ]
    },
    {
      "attachments": {},
      "cell_type": "markdown",
      "metadata": {},
      "source": [
        "## Introducción\n",
        "\n",
        "<p align=\"justify\">\n",
        "El cubo Rubik fue inventado por Ernő Rubik en 1974 y desde entonces ha sido uno de los puzles más famosos y vendidos de la historia; sin embargo, se estima que solo el 5.8% de las personas que han intentado armar el cubo lo han solucionado realmente, mientras que el 94% restante de la población no saben cómo resolverlo a pesar de que en internet se encuentran gran variedad de tutoriales y videos que muestran como armarlo y es aquí donde se da cuenta de que efectivamente el cubo Rubik tiene solución y no solo una, pues hay más de una forma de resolverlo siendo unas más óptimas que otras.\n",
        "</p>\n",
        "<p align=\"justify\">\n",
        "En cuanto a estas soluciones, muchas veces los autores que las presentan replican algoritmos encontrados en otros sitios web o incluso las mismas instrucciones que vienen con el cubo cuando recién se compra, pero esto limita a resolver el cubo siguiendo un patrón de una única manera. Es aquí cuando entran en juego los algoritmos que usan los jugadores profesionales para armar el cubo Rubik en un tiempo récord, los cuales consisten en realizar la menor cantidad posible de movimientos para emparejar los colores de cada cara, pero estos algoritmos no son producto de la suerte, se encuentran matematizando el cubo y usando la teoría de grupos que en principio permite comprender el funcionamiento de los diferentes movimientos que se pueden realizar en el Rubik, para entender con qué secuencia de acciones de grupo se pueden intercambiar los cuadros de manera que se llegue a la solución del cubo sin importar si es la menor cantidad de acciones posibles.\n",
        "</p>"
      ]
    },
    {
      "attachments": {},
      "cell_type": "markdown",
      "metadata": {},
      "source": [
        "## Materiales y métodos\n",
        "### Conceptos:\n",
        "<p align=\"justify\">\n",
        "Para llegar a la solución del cubo Rubik se va a hacer uso de la teoría de grupos, para ello se debe tener en cuenta la definición de un grupo.\n",
        "</p>\n",
        "<p align=\"justify\">\n",
        "<b>Grupo:</b></br>Un grupo es un conjunto G con una operación binaria que satisface las siguientes propiedades:</br>\n",
        "</p>\n",
        "<li>Cerrado respecto a la operación</li>\n",
        "<li>Asociativo</li>\n",
        "<li>Existencia del elemento neutro</li>\n",
        "$$e*a = a \\hspace{2em} \\forall \\thinspace a \\in G$$\n",
        "<li>Existencia de inversos</li>\n",
        "$$\\forall \\thinspace a \\in G \\hspace{0.5em}existe\\hspace{0.5em}un\\hspace{0.5em}elemento\\hspace{0.5em}b\\in G\\hspace{0.5em} tal\\hspace{0.5em}que\\hspace{0.5em}b*a=e$$\n",
        "<p align=\"justify\">\n",
        "También se va a considerar el concepto de permutación\n",
        "</p>\n",
        "<p align=\"justify\">\n",
        "<b>Permutación:</b> Es una correspondencia uno a uno sobre un conjunto x de n elementos.\n",
        "</p>\n",
        "$$ x = {1, 2, 3, 4, ..., n}$$\n",
        "<p align=\"justify\">\n",
        "donde se tienen n! correspondencias\n",
        "</p>\n",
        "<p align=\"justify\">\n",
        "Luego, en base a este concepto se llega a la idea de grupo simétrico.\n",
        "</p>\n",
        "<p align=\"justify\">\n",
        "<b>Grupo simétrico:</b> Es el conjunto de todas las operaciones en x bajo la operación de la composición.\n",
        "</p>\n",
        "<p align=\"center\">\n",
        "$S_{n}$ = {δ: x→x | δ es una biyección} </br></br>\n",
        "</p>\n",
        "\n",
        "### Matematización del cubo Rubik:\n",
        "\n",
        "<p align=\"justify\">\n",
        "Para entender el cubo de forma matemática es importante entender su forma y su configuración respecto a cada pieza. Así, los primero que se puede observar es que cada cara del cubo tiene un total de n x n = $n^2$ cuadros, que en este caso al trabajar sobre el cubo Rubik clásico son 3 x 3 = $3^2$ = 9 cuadros, y adicionalmente en cada cara, sin importar los movimientos que se hagan se ve claramente que los centros se mantienen fijos.</br></br>\n",
        "</p>\n",
        "\n",
        "<p align=\"center\">\n",
        "<img src = \"https://raw.githubusercontent.com/kaalvarezb/Matematicas-discretas-II/main/Imagenes%20rubik/Centros%20fijos.png\"> </img>\n",
        "</p>"
      ]
    },
    {
      "attachments": {},
      "cell_type": "markdown",
      "metadata": {},
      "source": []
    },
    {
      "attachments": {},
      "cell_type": "markdown",
      "metadata": {},
      "source": [
        "``` GAP\n",
        "gap> cube := Group(\n",
        "> ( 1, 3, 8, 6)( 2, 5, 7, 4)( 9,33,25,17)(10,34,26,18)(11,35,27,19),\n",
        "> ( 9,11,16,14)(10,13,15,12)( 1,17,41,40)( 4,20,44,37)( 6,22,46,35),\n",
        "> (17,19,24,22)(18,21,23,20)( 6,25,43,16)( 7,28,42,13)( 8,30,41,11),\n",
        "> (25,27,32,30)(26,29,31,28)( 3,38,43,19)( 5,36,45,21)( 8,33,48,24),\n",
        "> (33,35,40,38)(34,37,39,36)( 3, 9,46,32)( 2,12,47,29)( 1,14,48,27),\n",
        "> (41,43,48,46)(42,45,47,44)(14,22,30,38)(15,23,31,39)(16,24,32,40) );\n",
        "<permutation group with 6 generators>\n",
        "```"
      ]
    },
    {
      "attachments": {},
      "cell_type": "markdown",
      "metadata": {},
      "source": []
    },
    {
      "attachments": {},
      "cell_type": "markdown",
      "metadata": {},
      "source": [
        "``` GAP\n",
        "gap> Size( cube );\n",
        "43252003274489856000\n",
        "```"
      ]
    },
    {
      "attachments": {},
      "cell_type": "markdown",
      "metadata": {},
      "source": []
    },
    {
      "attachments": {},
      "cell_type": "markdown",
      "metadata": {},
      "source": [
        "``` GAP\n",
        "gap> Collected( Factors( last ) );\n",
        "[ [ 2, 27 ], [ 3, 14 ], [ 5, 3 ], [ 7, 2 ], [ 11, 1 ] ]\n",
        "```"
      ]
    },
    {
      "attachments": {},
      "cell_type": "markdown",
      "metadata": {},
      "source": []
    },
    {
      "attachments": {},
      "cell_type": "markdown",
      "metadata": {},
      "source": [
        "``` GAP\n",
        "gap> SizeScreen( [71, ] );;\n",
        "gap> orbits := Orbits( cube, [1..48] );\n",
        "[ [ 1, 3, 17, 14, 8, 38, 9, 41, 19, 48, 22, 6, 30, 33, 43, 11, 46, \n",
        "      40, 24, 27, 25, 35, 16, 32 ], \n",
        "  [ 2, 5, 12, 7, 36, 10, 47, 4, 28, 45, 34, 13, 29, 44, 20, 42, 26, \n",
        "      21, 37, 15, 31, 18, 23, 39 ] ]\n",
        "```"
      ]
    },
    {
      "attachments": {},
      "cell_type": "markdown",
      "metadata": {},
      "source": []
    },
    {
      "attachments": {},
      "cell_type": "markdown",
      "metadata": {},
      "source": [
        "``` GAP\n",
        "gap> cube1 := Action( cube, orbits[1] );\n",
        "<permutation group with 6 generators>\n",
        "gap> NrMovedPoints( cube1 );\n",
        "24\n",
        "gap> Size( cube1 );\n",
        "88179840\n",
        "```"
      ]
    },
    {
      "attachments": {},
      "cell_type": "markdown",
      "metadata": {},
      "source": []
    },
    {
      "attachments": {},
      "cell_type": "markdown",
      "metadata": {},
      "source": [
        "``` GAP\n",
        "gap> corners := Blocks( cube1, MovedPoints( cube1 ) );\n",
        "[ [ 1, 7, 22 ], [ 2, 14, 20 ], [ 3, 12, 16 ], [ 4, 17, 18 ], \n",
        "  [ 5, 9, 21 ], [ 6, 10, 24 ], [ 8, 11, 23 ], [ 13, 15, 19 ] ]\n",
        "```"
      ]
    },
    {
      "attachments": {},
      "cell_type": "markdown",
      "metadata": {},
      "source": []
    },
    {
      "attachments": {},
      "cell_type": "markdown",
      "metadata": {},
      "source": [
        "``` GAP\n",
        "gap> blockhom1 := ActionHomomorphism( cube1, corners, OnSets );\n",
        "<action homomorphism>\n",
        "gap> cube1b := Image( blockhom1 );\n",
        "Group([ (1,2,4,3), (1,3,6,5), (1,5,8,2), (3,4,7,6), (5,6,7,8), \n",
        "  (2,8,7,4) ])\n",
        "gap> Size( cube1b );\n",
        "40320\n",
        "```"
      ]
    },
    {
      "attachments": {},
      "cell_type": "markdown",
      "metadata": {},
      "source": []
    },
    {
      "attachments": {},
      "cell_type": "markdown",
      "metadata": {},
      "source": [
        "``` GAP\n",
        "gap> Factors( Size( Kernel( blockhom1 ) ) );\n",
        "[ 3, 3, 3, 3, 3, 3, 3 ]\n",
        "gap> IsElementaryAbelian( Kernel( blockhom1 ) );\n",
        "true\n",
        "```"
      ]
    },
    {
      "attachments": {},
      "cell_type": "markdown",
      "metadata": {},
      "source": []
    },
    {
      "attachments": {},
      "cell_type": "markdown",
      "metadata": {},
      "source": [
        "``` GAP\n",
        "gap> cmpl1 := ComplementClassesRepresentatives( cube1, Kernel( blockhom1 ) );\n",
        "[ Group([ (1,3,4,2)(7,16,17,14)(12,18,20,22), \n",
        "      (1,2,3,4,5,6,13)(7,14,16,17,21,10,15)(9,24,19,22,20,12,18), \n",
        "      (1,2,3,4,5,8,13)(7,14,16,17,21,23,15)(9,11,19,22,20,12,18) ]) ]\n",
        "gap> cmpl1 := cmpl1[1];;\n",
        "gap> Size( cmpl1 );\n",
        "40320\n",
        "```"
      ]
    },
    {
      "attachments": {},
      "cell_type": "markdown",
      "metadata": {},
      "source": []
    },
    {
      "attachments": {},
      "cell_type": "markdown",
      "metadata": {},
      "source": [
        "``` GAP\n",
        "gap> Size( Intersection( cmpl1, Kernel( blockhom1 ) ) );\n",
        "1\n",
        "gap> ClosureGroup( cmpl1, Kernel( blockhom1 ) ) = cube1;\n",
        "true\n",
        "```"
      ]
    },
    {
      "attachments": {},
      "cell_type": "markdown",
      "metadata": {},
      "source": []
    },
    {
      "attachments": {},
      "cell_type": "markdown",
      "metadata": {},
      "source": [
        "``` GAP\n",
        "gap> IsBijective( RestrictedMapping( blockhom1, cmpl1 ) );\n",
        "true\n",
        "```"
      ]
    },
    {
      "attachments": {},
      "cell_type": "markdown",
      "metadata": {},
      "source": []
    },
    {
      "attachments": {},
      "cell_type": "markdown",
      "metadata": {},
      "source": [
        "``` GAP\n",
        "gap> (1,7,22) in cube1;\n",
        "false\n",
        "gap> (1,7,22)(2,20,14) in cube1;\n",
        "true\n",
        "```"
      ]
    },
    {
      "attachments": {},
      "cell_type": "markdown",
      "metadata": {},
      "source": []
    },
    {
      "attachments": {},
      "cell_type": "markdown",
      "metadata": {},
      "source": [
        "``` GAP\n",
        "gap> cube2 := Action( cube, orbits[2] );;\n",
        "gap> Size( cube2 );\n",
        "980995276800\n",
        "gap> edges := Blocks( cube2, MovedPoints( cube2 ) );\n",
        "[ [ 1, 11 ], [ 2, 17 ], [ 3, 19 ], [ 4, 22 ], [ 5, 13 ], [ 6, 8 ], \n",
        "  [ 7, 24 ], [ 9, 18 ], [ 10, 21 ], [ 12, 15 ], [ 14, 20 ], \n",
        "  [ 16, 23 ] ]\n",
        "gap> blockhom2 := ActionHomomorphism( cube2, edges, OnSets );;\n",
        "gap> cube2b := Image( blockhom2 );;\n",
        "gap> Size( cube2b );\n",
        "479001600\n",
        "gap> Factors( Size( Kernel( blockhom2 ) ) );\n",
        "[ 2, 2, 2, 2, 2, 2, 2, 2, 2, 2, 2 ]\n",
        "gap> IsElementaryAbelian( Kernel( blockhom2 ) );\n",
        "true\n",
        "gap> cmpl2 := ComplementClassesRepresentatives( cube2, Kernel( blockhom2 ) );;\n",
        "gap> Length( cmpl2 );\n",
        "4\n",
        "```"
      ]
    },
    {
      "attachments": {},
      "cell_type": "markdown",
      "metadata": {},
      "source": []
    },
    {
      "attachments": {},
      "cell_type": "markdown",
      "metadata": {},
      "source": [
        "``` GAP\n",
        "gap> (1,11) in cube2;\n",
        "false\n",
        "gap> (1,11)(2,17) in cube2;\n",
        "true\n",
        "```"
      ]
    },
    {
      "attachments": {},
      "cell_type": "markdown",
      "metadata": {},
      "source": []
    },
    {
      "attachments": {},
      "cell_type": "markdown",
      "metadata": {},
      "source": [
        "``` GAP\n",
        "gap> Size( cube );\n",
        "43252003274489856000\n",
        "gap> Size( cube1 ) * Size( cube2 );\n",
        "86504006548979712000\n",
        "```"
      ]
    },
    {
      "attachments": {},
      "cell_type": "markdown",
      "metadata": {},
      "source": []
    },
    {
      "attachments": {},
      "cell_type": "markdown",
      "metadata": {},
      "source": [
        "``` GAP\n",
        "gap> (17,19)(11,8)(6,25) in cube;\n",
        "false\n",
        "gap> (7,28)(18,21) in cube;\n",
        "false\n",
        "gap> (17,19)(11,8)(6,25)(7,28)(18,21) in cube;\n",
        "true\n",
        "```"
      ]
    },
    {
      "attachments": {},
      "cell_type": "markdown",
      "metadata": {},
      "source": []
    },
    {
      "attachments": {},
      "cell_type": "markdown",
      "metadata": {},
      "source": [
        "``` GAP\n",
        "gap> z := Centre( cube );\n",
        "Group(\n",
        "[ (2,34)(4,10)(5,26)(7,18)(12,37)(13,20)(15,44)(21,28)(23,42)(29,\n",
        "    36)(31,45)(39,47) ])\n",
        "```"
      ]
    },
    {
      "attachments": {},
      "cell_type": "markdown",
      "metadata": {},
      "source": []
    },
    {
      "attachments": {},
      "cell_type": "markdown",
      "metadata": {},
      "source": [
        "``` GAP\n",
        "gap> f := FreeGroup(\"t\",\"l\",\"f\",\"r\",\"e\",\"b\");\n",
        "<free group on the generators [ t, l, f, r, e, b ]>\n",
        "gap> hom := GroupHomomorphismByImages( f, cube, GeneratorsOfGroup(f),\n",
        "> GeneratorsOfGroup(cube) );\n",
        "[ t, l, f, r, e, b ] -> \n",
        "[ (1,3,8,6)(2,5,7,4)(9,33,25,17)(10,34,26,18)(11,35,27,19), \n",
        "  (1,17,41,40)(4,20,44,37)(6,22,46,35)(9,11,16,14)(10,13,15,12), \n",
        "  (6,25,43,16)(7,28,42,13)(8,30,41,11)(17,19,24,22)(18,21,23,20), \n",
        "  (3,38,43,19)(5,36,45,21)(8,33,48,24)(25,27,32,30)(26,29,31,28), \n",
        "  (1,14,48,27)(2,12,47,29)(3,9,46,32)(33,35,40,38)(34,37,39,36), \n",
        "  (14,22,30,38)(15,23,31,39)(16,24,32,40)(41,43,48,46)(42,45,47,44) ]\n",
        "```"
      ]
    },
    {
      "attachments": {},
      "cell_type": "markdown",
      "metadata": {},
      "source": [
        "## Resultados\n",
        "<p align=\"justify\"></p>"
      ]
    },
    {
      "attachments": {},
      "cell_type": "markdown",
      "metadata": {},
      "source": [
        "## Conclusiones\n",
        "<p align=\"justify\"></p>"
      ]
    },
    {
      "attachments": {},
      "cell_type": "markdown",
      "metadata": {},
      "source": [
        "## Referencias\n",
        "\n",
        "<p align=\"justify\">\n",
        "The GAP Group. Rubik's Cube. Recuperado de https://www.gap-system.org/Doc/Examples/rubik.html\n",
        "</p>\n",
        "<p align=\"justify\">\n",
        "Porter Kamlin, R. M. (2018). Rubik Invariants. Recuperado de http://universo.math.org.mx/2018-1/Rubik/rubikinvariants.html\n",
        "</p>\n",
        "<p align=\"justify\">\n",
        "Bolívar Severino, C. A. (2019). Resolviendo el cubo de Rubik con el robot Baxter (Tesis de licenciatura). Universidad de Concepción, Departamento de Ingeniería Informática y Ciencias de la Computación.\n",
        "</p>\n",
        "<p align=\"justify\">\n",
        "Tran, R. (2005). A Mathematical Approach To Solving Rubik's Cube. UBC Math308 – Fall 2005.\n",
        "</p>\n",
        "<p align=\"justify\">\n",
        "Red Bull. (2023). Cubo de Rubik: 10 curiosidades. Recuperado de https://www.redbull.com/mx-es/cubo-rubik-10-curiosidades</p>"
      ]
    }
  ],
  "metadata": {
    "colab": {
      "authorship_tag": "ABX9TyOLaGVY2NGJuEdyQ//VZGiY",
      "provenance": []
    },
    "kernelspec": {
      "display_name": "Python 3",
      "name": "python3"
    },
    "language_info": {
      "codemirror_mode": {
        "name": "ipython",
        "version": 3
      },
      "file_extension": ".py",
      "mimetype": "text/x-python",
      "name": "python",
      "nbconvert_exporter": "python",
      "pygments_lexer": "ipython3",
      "version": "3.11.0"
    }
  },
  "nbformat": 4,
  "nbformat_minor": 0
}
