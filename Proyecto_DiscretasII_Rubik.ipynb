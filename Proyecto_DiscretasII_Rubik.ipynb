{
  "nbformat": 4,
  "nbformat_minor": 0,
  "metadata": {
    "colab": {
      "provenance": [],
      "authorship_tag": "ABX9TyOLaGVY2NGJuEdyQ//VZGiY"
    },
    "kernelspec": {
      "name": "python3",
      "display_name": "Python 3"
    },
    "language_info": {
      "name": "python"
    }
  },
  "cells": [
    {
      "cell_type": "markdown",
      "source": [
        "# <center>SOLUCIÓN CUBO RUBIK</center>\n",
        "**<center>Karen Tatiana Alvarez Baez</center>**\n",
        "_<center>kaalvarezb@unal.edu.co</center>_\n",
        "\n",
        "<center>Matemáticas discretas II 2023-I</center>\n",
        "<center>Facultad de Ingeniería</center>\n",
        "<center>Universidad Nacional de Colombia</center>"
      ],
      "metadata": {
        "id": "NkA3pEcURmyX"
      }
    },
    {
      "cell_type": "code",
      "execution_count": null,
      "metadata": {
        "id": "k0nmI-IyRcQy"
      },
      "outputs": [],
      "source": []
    }
  ]
}